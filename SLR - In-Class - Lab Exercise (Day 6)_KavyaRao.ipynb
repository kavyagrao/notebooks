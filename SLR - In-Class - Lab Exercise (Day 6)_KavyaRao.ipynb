{
 "cells": [
  {
   "cell_type": "markdown",
   "metadata": {},
   "source": [
    "<table align=\"center\" width=100%>\n",
    "    <tr>\n",
    "        <td width=\"15%\">\n",
    "            <img src=\"in_class.png\">\n",
    "        </td>\n",
    "        <td>\n",
    "            <div align=\"center\">\n",
    "                <font color=\"#21618C\" size=8px>\n",
    "                    <b> Inclass - Lab <br>(Day 6)\n",
    "                    </b>\n",
    "                </font>\n",
    "            </div>\n",
    "        </td>\n",
    "    </tr>\n",
    "</table>"
   ]
  },
  {
   "cell_type": "markdown",
   "metadata": {},
   "source": [
    "### About the data set  (Life Expectancy data)\n",
    "\n",
    "The dataset contains information about several health and economic factors that contribute to average life expectancy for different countries. <br> Attribute information: \n",
    "\n",
    "**Country:** Name of the country\n",
    "\n",
    "**Year:** Year the observations were recorded\n",
    "\n",
    "**Status:** Whether the country is Developed or Developing\n",
    "\n",
    "**Adult_Mortality:** Mortality rate for age group 15-60 out of every 1000 individuals of the population\n",
    "\n",
    "**Infant_Deaths:** Number of infant deaths per 1000 population\n",
    "\n",
    "**Alcohol:** Alcohol, recorded per capita (15+) consumption (in litres of pure alcohol)\n",
    "\n",
    "**Hepatitis B:** Hepatitis B (HepB) immunization coverage for 1 year olds (Percentage)\n",
    "\n",
    "**Measles:** Number of reported cases for measles per 1000 from population\n",
    "\n",
    "**BMI:** Average Body Mass Index for entire population\n",
    "\n",
    "**Underfive_Deaths:** Number of deaths under 5 years of age per 1000 population\n",
    "\n",
    "**Polio:** Polio (Pol3) immunization coverage for 1 year olds (Percentage)\n",
    "\n",
    "**Diphtheria:** Diphtheria tetanus toxoid and pertussis (DTP3) immunization coverage for 1 year olds (Percentage)\n",
    "\n",
    "**HIV:** Deaths per 1000 live births due to HIV/AIDS (0-4 years)\n",
    "\n",
    "**GDP:** Gross Domestic Product per capita (in USD)\n",
    "\n",
    "**Population:** Population of the country\n",
    "\n",
    "**Malnourished10_19:** Prevalence of malnutrition among children and adolescents for Age 10 to 19 (Percentage)\n",
    "\n",
    "**Malnourished5_9:** Prevalence of malnutrition among children for Age 5 to 9 (Percentage)\n",
    "\n",
    "**Income_Index:** Human Development Index (HDI) in terms of national income per capita (index ranging from 0 to 1)\n",
    "\n",
    "**Schooling:** Number of years of Schooling\n",
    "\n",
    "**Life_Expectancy:** Life Expectancy in age for the country\n"
   ]
  },
  {
   "cell_type": "markdown",
   "metadata": {},
   "source": [
    "##  Table of Content\n",
    "\n",
    "1. **[Data Preparation](#eda)**\n",
    "2. **[Linear Regression](#lf)**\n",
    "3. **[Gradient Descent](#gd)**\n",
    "4. **[Regularization](#reg)**\n",
    "5. **[Grid Search](#gs)**"
   ]
  },
  {
   "cell_type": "markdown",
   "metadata": {},
   "source": [
    "**Import the required libraries**"
   ]
  },
  {
   "cell_type": "code",
   "execution_count": 136,
   "metadata": {},
   "outputs": [],
   "source": [
    "# import 'Numpy' \n",
    "import numpy as np\n",
    "\n",
    "# import 'Pandas' \n",
    "import pandas as pd\n",
    "\n",
    "# import subpackage of Matplotlib\n",
    "import matplotlib.pyplot as plt\n",
    "\n",
    "# import 'Seaborn' \n",
    "import seaborn as sns\n",
    "\n",
    "# to suppress warnings \n",
    "from warnings import filterwarnings\n",
    "filterwarnings('ignore')\n",
    "\n",
    "# display all columns of the dataframe\n",
    "pd.options.display.max_columns = None\n",
    "\n",
    "# display all rows of the dataframe\n",
    "pd.options.display.max_rows = None\n",
    " \n",
    "# to display the float values upto 6 decimal places     \n",
    "pd.options.display.float_format = '{:.6f}'.format\n",
    "\n",
    "# import train-test split \n",
    "from sklearn.model_selection import train_test_split\n",
    "\n",
    "# import various functions from statsmodels\n",
    "import statsmodels\n",
    "import statsmodels.api as sm\n",
    "\n",
    "# import 'stats'\n",
    "from scipy import stats\n",
    "\n",
    "# 'metrics' from sklearn is used for evaluating the model performance\n",
    "from sklearn.metrics import mean_squared_error\n",
    "from sklearn.metrics import mean_absolute_error\n",
    "\n",
    "\n",
    "# import function to perform linear regression\n",
    "from sklearn.linear_model import LinearRegression\n",
    "\n",
    "# import StandardScaler to perform scaling\n",
    "from sklearn.preprocessing import StandardScaler \n",
    "\n",
    "# import SGDRegressor from sklearn to perform linear regression with stochastic gradient descent\n",
    "from sklearn.linear_model import SGDRegressor\n",
    "\n",
    "# import function for ridge regression\n",
    "from sklearn.linear_model import Ridge\n",
    "\n",
    "# import function for lasso regression\n",
    "from sklearn.linear_model import Lasso\n",
    "\n",
    "# import function for elastic net regression\n",
    "from sklearn.linear_model import ElasticNet\n",
    "\n",
    "# import function to perform GridSearchCV\n",
    "from sklearn.model_selection import GridSearchCV\n",
    "\n",
    "# import functions to perform cross validation\n",
    "from sklearn.model_selection import LeaveOneOut\n",
    "from sklearn.model_selection import cross_val_score\n",
    "from sklearn.model_selection import KFold"
   ]
  },
  {
   "cell_type": "markdown",
   "metadata": {},
   "source": [
    "#### Load the Life expectancy dataset and display the first five records "
   ]
  },
  {
   "cell_type": "code",
   "execution_count": 42,
   "metadata": {},
   "outputs": [
    {
     "data": {
      "text/html": [
       "<div>\n",
       "<style scoped>\n",
       "    .dataframe tbody tr th:only-of-type {\n",
       "        vertical-align: middle;\n",
       "    }\n",
       "\n",
       "    .dataframe tbody tr th {\n",
       "        vertical-align: top;\n",
       "    }\n",
       "\n",
       "    .dataframe thead th {\n",
       "        text-align: right;\n",
       "    }\n",
       "</style>\n",
       "<table border=\"1\" class=\"dataframe\">\n",
       "  <thead>\n",
       "    <tr style=\"text-align: right;\">\n",
       "      <th></th>\n",
       "      <th>Country</th>\n",
       "      <th>Year</th>\n",
       "      <th>Status</th>\n",
       "      <th>Adult_Mortality</th>\n",
       "      <th>Infant_Deaths</th>\n",
       "      <th>Alcohol</th>\n",
       "      <th>Hepatitis B</th>\n",
       "      <th>Measles</th>\n",
       "      <th>BMI</th>\n",
       "      <th>Underfive_Deaths</th>\n",
       "      <th>Polio</th>\n",
       "      <th>Diphtheria</th>\n",
       "      <th>HIV</th>\n",
       "      <th>GDP</th>\n",
       "      <th>Population</th>\n",
       "      <th>Malnourished10_19</th>\n",
       "      <th>Malnourished5_9</th>\n",
       "      <th>Income_Index</th>\n",
       "      <th>Schooling</th>\n",
       "      <th>Life_Expectancy</th>\n",
       "    </tr>\n",
       "  </thead>\n",
       "  <tbody>\n",
       "    <tr>\n",
       "      <th>0</th>\n",
       "      <td>Afghanistan</td>\n",
       "      <td>2015</td>\n",
       "      <td>Developing</td>\n",
       "      <td>263.000000</td>\n",
       "      <td>62</td>\n",
       "      <td>0.010000</td>\n",
       "      <td>65.000000</td>\n",
       "      <td>1154</td>\n",
       "      <td>19.100000</td>\n",
       "      <td>83</td>\n",
       "      <td>6</td>\n",
       "      <td>65</td>\n",
       "      <td>0.100000</td>\n",
       "      <td>584.259210</td>\n",
       "      <td>33736494.000000</td>\n",
       "      <td>17.200000</td>\n",
       "      <td>17.300000</td>\n",
       "      <td>0.479000</td>\n",
       "      <td>10.100000</td>\n",
       "      <td>65.000000</td>\n",
       "    </tr>\n",
       "    <tr>\n",
       "      <th>1</th>\n",
       "      <td>Albania</td>\n",
       "      <td>2015</td>\n",
       "      <td>Developing</td>\n",
       "      <td>74.000000</td>\n",
       "      <td>0</td>\n",
       "      <td>4.600000</td>\n",
       "      <td>99.000000</td>\n",
       "      <td>0</td>\n",
       "      <td>58.000000</td>\n",
       "      <td>0</td>\n",
       "      <td>99</td>\n",
       "      <td>99</td>\n",
       "      <td>0.100000</td>\n",
       "      <td>3954.227830</td>\n",
       "      <td>28873.000000</td>\n",
       "      <td>1.200000</td>\n",
       "      <td>1.300000</td>\n",
       "      <td>0.762000</td>\n",
       "      <td>14.200000</td>\n",
       "      <td>77.800000</td>\n",
       "    </tr>\n",
       "    <tr>\n",
       "      <th>2</th>\n",
       "      <td>Algeria</td>\n",
       "      <td>2015</td>\n",
       "      <td>Developing</td>\n",
       "      <td>19.000000</td>\n",
       "      <td>21</td>\n",
       "      <td>nan</td>\n",
       "      <td>95.000000</td>\n",
       "      <td>63</td>\n",
       "      <td>59.500000</td>\n",
       "      <td>24</td>\n",
       "      <td>95</td>\n",
       "      <td>95</td>\n",
       "      <td>0.100000</td>\n",
       "      <td>4132.762920</td>\n",
       "      <td>39871528.000000</td>\n",
       "      <td>6.000000</td>\n",
       "      <td>5.800000</td>\n",
       "      <td>0.743000</td>\n",
       "      <td>14.400000</td>\n",
       "      <td>75.600000</td>\n",
       "    </tr>\n",
       "    <tr>\n",
       "      <th>3</th>\n",
       "      <td>Angola</td>\n",
       "      <td>2015</td>\n",
       "      <td>Developing</td>\n",
       "      <td>335.000000</td>\n",
       "      <td>66</td>\n",
       "      <td>nan</td>\n",
       "      <td>64.000000</td>\n",
       "      <td>118</td>\n",
       "      <td>23.300000</td>\n",
       "      <td>98</td>\n",
       "      <td>7</td>\n",
       "      <td>64</td>\n",
       "      <td>1.900000</td>\n",
       "      <td>3695.793748</td>\n",
       "      <td>2785935.000000</td>\n",
       "      <td>8.300000</td>\n",
       "      <td>8.200000</td>\n",
       "      <td>0.531000</td>\n",
       "      <td>11.400000</td>\n",
       "      <td>52.400000</td>\n",
       "    </tr>\n",
       "    <tr>\n",
       "      <th>4</th>\n",
       "      <td>Antigua</td>\n",
       "      <td>2015</td>\n",
       "      <td>Developing</td>\n",
       "      <td>13.000000</td>\n",
       "      <td>0</td>\n",
       "      <td>nan</td>\n",
       "      <td>99.000000</td>\n",
       "      <td>0</td>\n",
       "      <td>47.700000</td>\n",
       "      <td>0</td>\n",
       "      <td>86</td>\n",
       "      <td>99</td>\n",
       "      <td>0.200000</td>\n",
       "      <td>13566.954100</td>\n",
       "      <td>nan</td>\n",
       "      <td>3.300000</td>\n",
       "      <td>3.300000</td>\n",
       "      <td>0.784000</td>\n",
       "      <td>13.900000</td>\n",
       "      <td>76.400000</td>\n",
       "    </tr>\n",
       "  </tbody>\n",
       "</table>\n",
       "</div>"
      ],
      "text/plain": [
       "       Country  Year      Status  Adult_Mortality  Infant_Deaths  Alcohol  \\\n",
       "0  Afghanistan  2015  Developing       263.000000             62 0.010000   \n",
       "1      Albania  2015  Developing        74.000000              0 4.600000   \n",
       "2      Algeria  2015  Developing        19.000000             21      nan   \n",
       "3       Angola  2015  Developing       335.000000             66      nan   \n",
       "4      Antigua  2015  Developing        13.000000              0      nan   \n",
       "\n",
       "   Hepatitis B  Measles        BMI  Underfive_Deaths   Polio  Diphtheria   \\\n",
       "0    65.000000      1154 19.100000                 83      6           65   \n",
       "1    99.000000         0 58.000000                  0     99           99   \n",
       "2    95.000000        63 59.500000                 24     95           95   \n",
       "3    64.000000       118 23.300000                 98      7           64   \n",
       "4    99.000000         0 47.700000                  0     86           99   \n",
       "\n",
       "       HIV          GDP      Population  Malnourished10_19  Malnourished5_9  \\\n",
       "0 0.100000   584.259210 33736494.000000          17.200000        17.300000   \n",
       "1 0.100000  3954.227830    28873.000000           1.200000         1.300000   \n",
       "2 0.100000  4132.762920 39871528.000000           6.000000         5.800000   \n",
       "3 1.900000  3695.793748  2785935.000000           8.300000         8.200000   \n",
       "4 0.200000 13566.954100             nan           3.300000         3.300000   \n",
       "\n",
       "   Income_Index  Schooling  Life_Expectancy  \n",
       "0      0.479000  10.100000        65.000000  \n",
       "1      0.762000  14.200000        77.800000  \n",
       "2      0.743000  14.400000        75.600000  \n",
       "3      0.531000  11.400000        52.400000  \n",
       "4      0.784000  13.900000        76.400000  "
      ]
     },
     "execution_count": 42,
     "metadata": {},
     "output_type": "execute_result"
    }
   ],
   "source": [
    "df_lexp = pd.read_csv('Life_Expectancy.csv')\n",
    "df_lexp.head()"
   ]
  },
  {
   "cell_type": "markdown",
   "metadata": {},
   "source": [
    "#### Check the shape of the data and display its information"
   ]
  },
  {
   "cell_type": "code",
   "execution_count": 4,
   "metadata": {
    "scrolled": true
   },
   "outputs": [
    {
     "data": {
      "text/plain": [
       "(182, 20)"
      ]
     },
     "execution_count": 4,
     "metadata": {},
     "output_type": "execute_result"
    }
   ],
   "source": [
    "df_lexp.shape"
   ]
  },
  {
   "cell_type": "code",
   "execution_count": 5,
   "metadata": {},
   "outputs": [
    {
     "name": "stdout",
     "output_type": "stream",
     "text": [
      "<class 'pandas.core.frame.DataFrame'>\n",
      "RangeIndex: 182 entries, 0 to 181\n",
      "Data columns (total 20 columns):\n",
      " #   Column             Non-Null Count  Dtype  \n",
      "---  ------             --------------  -----  \n",
      " 0   Country            182 non-null    object \n",
      " 1   Year               182 non-null    int64  \n",
      " 2   Status             182 non-null    object \n",
      " 3   Adult_Mortality    173 non-null    float64\n",
      " 4   Infant_Deaths      182 non-null    int64  \n",
      " 5   Alcohol            15 non-null     float64\n",
      " 6   Hepatitis B        173 non-null    float64\n",
      " 7   Measles            182 non-null    int64  \n",
      " 8   BMI                178 non-null    float64\n",
      " 9   Underfive_Deaths   182 non-null    int64  \n",
      " 10  Polio              182 non-null    int64  \n",
      " 11  Diphtheria         182 non-null    int64  \n",
      " 12  HIV                182 non-null    float64\n",
      " 13  GDP                157 non-null    float64\n",
      " 14  Population         141 non-null    float64\n",
      " 15  Malnourished10_19  178 non-null    float64\n",
      " 16  Malnourished5_9    178 non-null    float64\n",
      " 17  Income_Index       169 non-null    float64\n",
      " 18  Schooling          173 non-null    float64\n",
      " 19  Life_Expectancy    173 non-null    float64\n",
      "dtypes: float64(12), int64(6), object(2)\n",
      "memory usage: 28.6+ KB\n"
     ]
    }
   ],
   "source": [
    "df_lexp.info()"
   ]
  },
  {
   "cell_type": "code",
   "execution_count": 6,
   "metadata": {},
   "outputs": [
    {
     "data": {
      "text/html": [
       "<div>\n",
       "<style scoped>\n",
       "    .dataframe tbody tr th:only-of-type {\n",
       "        vertical-align: middle;\n",
       "    }\n",
       "\n",
       "    .dataframe tbody tr th {\n",
       "        vertical-align: top;\n",
       "    }\n",
       "\n",
       "    .dataframe thead th {\n",
       "        text-align: right;\n",
       "    }\n",
       "</style>\n",
       "<table border=\"1\" class=\"dataframe\">\n",
       "  <thead>\n",
       "    <tr style=\"text-align: right;\">\n",
       "      <th></th>\n",
       "      <th>Year</th>\n",
       "      <th>Adult_Mortality</th>\n",
       "      <th>Infant_Deaths</th>\n",
       "      <th>Alcohol</th>\n",
       "      <th>Hepatitis B</th>\n",
       "      <th>Measles</th>\n",
       "      <th>BMI</th>\n",
       "      <th>Underfive_Deaths</th>\n",
       "      <th>Polio</th>\n",
       "      <th>Diphtheria</th>\n",
       "      <th>HIV</th>\n",
       "      <th>GDP</th>\n",
       "      <th>Population</th>\n",
       "      <th>Malnourished10_19</th>\n",
       "      <th>Malnourished5_9</th>\n",
       "      <th>Income_Index</th>\n",
       "      <th>Schooling</th>\n",
       "      <th>Life_Expectancy</th>\n",
       "    </tr>\n",
       "  </thead>\n",
       "  <tbody>\n",
       "    <tr>\n",
       "      <th>count</th>\n",
       "      <td>182.000000</td>\n",
       "      <td>173.000000</td>\n",
       "      <td>182.000000</td>\n",
       "      <td>15.000000</td>\n",
       "      <td>173.000000</td>\n",
       "      <td>182.000000</td>\n",
       "      <td>178.000000</td>\n",
       "      <td>182.000000</td>\n",
       "      <td>182.000000</td>\n",
       "      <td>182.000000</td>\n",
       "      <td>182.000000</td>\n",
       "      <td>157.000000</td>\n",
       "      <td>141.000000</td>\n",
       "      <td>178.000000</td>\n",
       "      <td>178.000000</td>\n",
       "      <td>169.000000</td>\n",
       "      <td>173.000000</td>\n",
       "      <td>173.000000</td>\n",
       "    </tr>\n",
       "    <tr>\n",
       "      <th>mean</th>\n",
       "      <td>2014.890110</td>\n",
       "      <td>149.971098</td>\n",
       "      <td>21.741758</td>\n",
       "      <td>2.719333</td>\n",
       "      <td>81.710983</td>\n",
       "      <td>1482.104396</td>\n",
       "      <td>44.411236</td>\n",
       "      <td>28.851648</td>\n",
       "      <td>82.961538</td>\n",
       "      <td>84.357143</td>\n",
       "      <td>0.620330</td>\n",
       "      <td>7098.949079</td>\n",
       "      <td>11332500.742411</td>\n",
       "      <td>4.368539</td>\n",
       "      <td>4.412360</td>\n",
       "      <td>0.696586</td>\n",
       "      <td>12.845665</td>\n",
       "      <td>72.007514</td>\n",
       "    </tr>\n",
       "    <tr>\n",
       "      <th>std</th>\n",
       "      <td>0.457003</td>\n",
       "      <td>95.679846</td>\n",
       "      <td>82.297159</td>\n",
       "      <td>3.887194</td>\n",
       "      <td>25.391991</td>\n",
       "      <td>7859.929395</td>\n",
       "      <td>21.305610</td>\n",
       "      <td>105.904392</td>\n",
       "      <td>24.973658</td>\n",
       "      <td>22.958019</td>\n",
       "      <td>1.332830</td>\n",
       "      <td>11603.099478</td>\n",
       "      <td>29120654.198998</td>\n",
       "      <td>4.137007</td>\n",
       "      <td>4.223363</td>\n",
       "      <td>0.152706</td>\n",
       "      <td>3.215180</td>\n",
       "      <td>8.032405</td>\n",
       "    </tr>\n",
       "    <tr>\n",
       "      <th>min</th>\n",
       "      <td>2013.000000</td>\n",
       "      <td>1.000000</td>\n",
       "      <td>0.000000</td>\n",
       "      <td>0.010000</td>\n",
       "      <td>6.000000</td>\n",
       "      <td>0.000000</td>\n",
       "      <td>2.500000</td>\n",
       "      <td>0.000000</td>\n",
       "      <td>5.000000</td>\n",
       "      <td>6.000000</td>\n",
       "      <td>0.100000</td>\n",
       "      <td>33.681223</td>\n",
       "      <td>292.000000</td>\n",
       "      <td>0.100000</td>\n",
       "      <td>0.100000</td>\n",
       "      <td>0.347000</td>\n",
       "      <td>0.000000</td>\n",
       "      <td>51.000000</td>\n",
       "    </tr>\n",
       "    <tr>\n",
       "      <th>25%</th>\n",
       "      <td>2015.000000</td>\n",
       "      <td>74.000000</td>\n",
       "      <td>0.000000</td>\n",
       "      <td>0.010000</td>\n",
       "      <td>78.000000</td>\n",
       "      <td>0.000000</td>\n",
       "      <td>24.425000</td>\n",
       "      <td>0.000000</td>\n",
       "      <td>83.250000</td>\n",
       "      <td>84.000000</td>\n",
       "      <td>0.100000</td>\n",
       "      <td>762.261218</td>\n",
       "      <td>263531.000000</td>\n",
       "      <td>1.500000</td>\n",
       "      <td>1.400000</td>\n",
       "      <td>0.575000</td>\n",
       "      <td>10.800000</td>\n",
       "      <td>66.200000</td>\n",
       "    </tr>\n",
       "    <tr>\n",
       "      <th>50%</th>\n",
       "      <td>2015.000000</td>\n",
       "      <td>137.000000</td>\n",
       "      <td>2.000000</td>\n",
       "      <td>0.010000</td>\n",
       "      <td>93.000000</td>\n",
       "      <td>9.000000</td>\n",
       "      <td>52.650000</td>\n",
       "      <td>2.000000</td>\n",
       "      <td>93.000000</td>\n",
       "      <td>94.000000</td>\n",
       "      <td>0.100000</td>\n",
       "      <td>3111.762887</td>\n",
       "      <td>1977527.000000</td>\n",
       "      <td>3.150000</td>\n",
       "      <td>3.250000</td>\n",
       "      <td>0.733000</td>\n",
       "      <td>13.100000</td>\n",
       "      <td>74.100000</td>\n",
       "    </tr>\n",
       "    <tr>\n",
       "      <th>75%</th>\n",
       "      <td>2015.000000</td>\n",
       "      <td>199.000000</td>\n",
       "      <td>15.000000</td>\n",
       "      <td>5.285000</td>\n",
       "      <td>97.000000</td>\n",
       "      <td>197.250000</td>\n",
       "      <td>62.100000</td>\n",
       "      <td>19.500000</td>\n",
       "      <td>97.750000</td>\n",
       "      <td>97.000000</td>\n",
       "      <td>0.300000</td>\n",
       "      <td>6993.477360</td>\n",
       "      <td>11273661.000000</td>\n",
       "      <td>6.400000</td>\n",
       "      <td>6.200000</td>\n",
       "      <td>0.799000</td>\n",
       "      <td>15.000000</td>\n",
       "      <td>77.100000</td>\n",
       "    </tr>\n",
       "    <tr>\n",
       "      <th>max</th>\n",
       "      <td>2015.000000</td>\n",
       "      <td>484.000000</td>\n",
       "      <td>910.000000</td>\n",
       "      <td>10.660000</td>\n",
       "      <td>99.000000</td>\n",
       "      <td>90387.000000</td>\n",
       "      <td>87.300000</td>\n",
       "      <td>1100.000000</td>\n",
       "      <td>99.000000</td>\n",
       "      <td>99.000000</td>\n",
       "      <td>9.300000</td>\n",
       "      <td>66346.522670</td>\n",
       "      <td>258162113.000000</td>\n",
       "      <td>26.700000</td>\n",
       "      <td>27.300000</td>\n",
       "      <td>0.948000</td>\n",
       "      <td>20.400000</td>\n",
       "      <td>88.000000</td>\n",
       "    </tr>\n",
       "  </tbody>\n",
       "</table>\n",
       "</div>"
      ],
      "text/plain": [
       "             Year  Adult_Mortality  Infant_Deaths   Alcohol  Hepatitis B  \\\n",
       "count  182.000000       173.000000     182.000000 15.000000   173.000000   \n",
       "mean  2014.890110       149.971098      21.741758  2.719333    81.710983   \n",
       "std      0.457003        95.679846      82.297159  3.887194    25.391991   \n",
       "min   2013.000000         1.000000       0.000000  0.010000     6.000000   \n",
       "25%   2015.000000        74.000000       0.000000  0.010000    78.000000   \n",
       "50%   2015.000000       137.000000       2.000000  0.010000    93.000000   \n",
       "75%   2015.000000       199.000000      15.000000  5.285000    97.000000   \n",
       "max   2015.000000       484.000000     910.000000 10.660000    99.000000   \n",
       "\n",
       "          Measles         BMI  Underfive_Deaths       Polio  Diphtheria   \\\n",
       "count   182.000000 178.000000         182.000000 182.000000   182.000000   \n",
       "mean   1482.104396  44.411236          28.851648  82.961538    84.357143   \n",
       "std    7859.929395  21.305610         105.904392  24.973658    22.958019   \n",
       "min       0.000000   2.500000           0.000000   5.000000     6.000000   \n",
       "25%       0.000000  24.425000           0.000000  83.250000    84.000000   \n",
       "50%       9.000000  52.650000           2.000000  93.000000    94.000000   \n",
       "75%     197.250000  62.100000          19.500000  97.750000    97.000000   \n",
       "max   90387.000000  87.300000        1100.000000  99.000000    99.000000   \n",
       "\n",
       "             HIV          GDP       Population  Malnourished10_19  \\\n",
       "count 182.000000   157.000000       141.000000         178.000000   \n",
       "mean    0.620330  7098.949079  11332500.742411           4.368539   \n",
       "std     1.332830 11603.099478  29120654.198998           4.137007   \n",
       "min     0.100000    33.681223       292.000000           0.100000   \n",
       "25%     0.100000   762.261218    263531.000000           1.500000   \n",
       "50%     0.100000  3111.762887   1977527.000000           3.150000   \n",
       "75%     0.300000  6993.477360  11273661.000000           6.400000   \n",
       "max     9.300000 66346.522670 258162113.000000          26.700000   \n",
       "\n",
       "       Malnourished5_9  Income_Index  Schooling  Life_Expectancy  \n",
       "count       178.000000    169.000000 173.000000       173.000000  \n",
       "mean          4.412360      0.696586  12.845665        72.007514  \n",
       "std           4.223363      0.152706   3.215180         8.032405  \n",
       "min           0.100000      0.347000   0.000000        51.000000  \n",
       "25%           1.400000      0.575000  10.800000        66.200000  \n",
       "50%           3.250000      0.733000  13.100000        74.100000  \n",
       "75%           6.200000      0.799000  15.000000        77.100000  \n",
       "max          27.300000      0.948000  20.400000        88.000000  "
      ]
     },
     "execution_count": 6,
     "metadata": {},
     "output_type": "execute_result"
    }
   ],
   "source": [
    "df_lexp.describe()"
   ]
  },
  {
   "cell_type": "code",
   "execution_count": 8,
   "metadata": {},
   "outputs": [
    {
     "data": {
      "image/png": "[encoded data removed]",
      "text/plain": [
       "<Figure size 1080x576 with 1 Axes>"
      ]
     },
     "metadata": {
      "needs_background": "light"
     },
     "output_type": "display_data"
    }
   ],
   "source": [
    "plt.figure(figsize = (15,8))\n",
    "\n",
    "df_lexp.boxplot()\n",
    "plt.title('Distribution of all Numeric Variables', fontsize = 15)\n",
    "plt.xticks(rotation = 'vertical', fontsize = 15)\n",
    "\n",
    "# display the plot\n",
    "plt.show()"
   ]
  },
  {
   "cell_type": "markdown",
   "metadata": {},
   "source": [
    "### Let's begin with some hands-on practice exercises"
   ]
  },
  {
   "cell_type": "markdown",
   "metadata": {},
   "source": [
    "<a id=\"eda\"> </a>\n",
    "## 1. Data Preparation"
   ]
  },
  {
   "cell_type": "markdown",
   "metadata": {
    "collapsed": true
   },
   "source": [
    "<table align=\"left\">\n",
    "    <tr>\n",
    "        <td width=\"6%\">\n",
    "            <img src=\"question_icon.png\">\n",
    "        </td>\n",
    "        <td>\n",
    "            <div align=\"left\", style=\"font-size:120%\">\n",
    "                <font color=\"#21618C\">\n",
    "                    <b>1. The dataset gives the life expectancy for different countries. Check if any information about life expectancy is missing from the given records. How do we fix the problem if present?</b>\n",
    "                </font>\n",
    "            </div>\n",
    "        </td>\n",
    "    </tr>\n",
    "</table>"
   ]
  },
  {
   "cell_type": "code",
   "execution_count": 43,
   "metadata": {},
   "outputs": [
    {
     "data": {
      "text/plain": [
       "Country                0\n",
       "Year                   0\n",
       "Status                 0\n",
       "Adult_Mortality        9\n",
       "Infant_Deaths          0\n",
       "Alcohol              167\n",
       "Hepatitis B            9\n",
       "Measles                0\n",
       "BMI                    4\n",
       "Underfive_Deaths       0\n",
       "Polio                  0\n",
       "Diphtheria             0\n",
       "HIV                    0\n",
       "GDP                   25\n",
       "Population            41\n",
       "Malnourished10_19      4\n",
       "Malnourished5_9        4\n",
       "Income_Index          13\n",
       "Schooling              9\n",
       "Life_Expectancy        9\n",
       "dtype: int64"
      ]
     },
     "execution_count": 43,
     "metadata": {},
     "output_type": "execute_result"
    }
   ],
   "source": [
    "df_lexp.isnull().sum()"
   ]
  },
  {
   "cell_type": "code",
   "execution_count": 44,
   "metadata": {},
   "outputs": [
    {
     "data": {
      "text/html": [
       "<div>\n",
       "<style scoped>\n",
       "    .dataframe tbody tr th:only-of-type {\n",
       "        vertical-align: middle;\n",
       "    }\n",
       "\n",
       "    .dataframe tbody tr th {\n",
       "        vertical-align: top;\n",
       "    }\n",
       "\n",
       "    .dataframe thead th {\n",
       "        text-align: right;\n",
       "    }\n",
       "</style>\n",
       "<table border=\"1\" class=\"dataframe\">\n",
       "  <thead>\n",
       "    <tr style=\"text-align: right;\">\n",
       "      <th></th>\n",
       "      <th>Country</th>\n",
       "    </tr>\n",
       "  </thead>\n",
       "  <tbody>\n",
       "    <tr>\n",
       "      <th>46</th>\n",
       "      <td>Dominica</td>\n",
       "    </tr>\n",
       "    <tr>\n",
       "      <th>100</th>\n",
       "      <td>Marshall Islands</td>\n",
       "    </tr>\n",
       "    <tr>\n",
       "      <th>104</th>\n",
       "      <td>Monaco</td>\n",
       "    </tr>\n",
       "    <tr>\n",
       "      <th>111</th>\n",
       "      <td>Nauru</td>\n",
       "    </tr>\n",
       "    <tr>\n",
       "      <th>118</th>\n",
       "      <td>Niue</td>\n",
       "    </tr>\n",
       "    <tr>\n",
       "      <th>122</th>\n",
       "      <td>Palau</td>\n",
       "    </tr>\n",
       "    <tr>\n",
       "      <th>135</th>\n",
       "      <td>Saint Kitts and Nevis</td>\n",
       "    </tr>\n",
       "    <tr>\n",
       "      <th>138</th>\n",
       "      <td>San Marino</td>\n",
       "    </tr>\n",
       "    <tr>\n",
       "      <th>168</th>\n",
       "      <td>Tuvalu</td>\n",
       "    </tr>\n",
       "  </tbody>\n",
       "</table>\n",
       "</div>"
      ],
      "text/plain": [
       "                   Country\n",
       "46                Dominica\n",
       "100       Marshall Islands\n",
       "104                 Monaco\n",
       "111                  Nauru\n",
       "118                   Niue\n",
       "122                  Palau\n",
       "135  Saint Kitts and Nevis\n",
       "138             San Marino\n",
       "168                 Tuvalu"
      ]
     },
     "execution_count": 44,
     "metadata": {},
     "output_type": "execute_result"
    }
   ],
   "source": [
    "le_miss = df_lexp[df_lexp.Life_Expectancy.isnull()]\n",
    "le_miss.iloc[:,0:1]"
   ]
  },
  {
   "cell_type": "code",
   "execution_count": 45,
   "metadata": {},
   "outputs": [
    {
     "name": "stdout",
     "output_type": "stream",
     "text": [
      "Mean of developing country's Life_Expectancy: 70.03262411347517\n"
     ]
    }
   ],
   "source": [
    "#df1 = df_lexp[(df_lexp.Year == 2013) & (df_lexp.Status == 'Developing')]['Life_Expectancy'].mean()\n",
    "developing_mean = df_lexp[df_lexp.Status == 'Developing']['Life_Expectancy'].mean()\n",
    "print(\"Mean of developing country's Life_Expectancy:\", developing_mean)"
   ]
  },
  {
   "cell_type": "code",
   "execution_count": 46,
   "metadata": {},
   "outputs": [
    {
     "data": {
      "text/plain": [
       "0"
      ]
     },
     "execution_count": 46,
     "metadata": {},
     "output_type": "execute_result"
    }
   ],
   "source": [
    "df_lexp.Life_Expectancy.fillna(value=developing_mean, inplace=True)\n",
    "df_lexp.Life_Expectancy.isnull().sum()"
   ]
  },
  {
   "cell_type": "markdown",
   "metadata": {
    "collapsed": true
   },
   "source": [
    "<table align=\"left\">\n",
    "    <tr>\n",
    "        <td width=\"6%\">\n",
    "            <img src=\"question_icon.png\">\n",
    "        </td>\n",
    "        <td>\n",
    "            <div align=\"left\", style=\"font-size:120%\">\n",
    "                <font color=\"#21618C\">\n",
    "                    <b>2. How do we handle the missing values from the entire dataset?</b>\n",
    "                </font>\n",
    "            </div>\n",
    "        </td>\n",
    "    </tr>\n",
    "</table>"
   ]
  },
  {
   "cell_type": "code",
   "execution_count": 86,
   "metadata": {},
   "outputs": [
    {
     "data": {
      "text/html": [
       "<div>\n",
       "<style scoped>\n",
       "    .dataframe tbody tr th:only-of-type {\n",
       "        vertical-align: middle;\n",
       "    }\n",
       "\n",
       "    .dataframe tbody tr th {\n",
       "        vertical-align: top;\n",
       "    }\n",
       "\n",
       "    .dataframe thead th {\n",
       "        text-align: right;\n",
       "    }\n",
       "</style>\n",
       "<table border=\"1\" class=\"dataframe\">\n",
       "  <thead>\n",
       "    <tr style=\"text-align: right;\">\n",
       "      <th></th>\n",
       "      <th>Missing values</th>\n",
       "      <th>Percentage</th>\n",
       "    </tr>\n",
       "  </thead>\n",
       "  <tbody>\n",
       "    <tr>\n",
       "      <th>Income_Index</th>\n",
       "      <td>13</td>\n",
       "      <td>7.142857</td>\n",
       "    </tr>\n",
       "    <tr>\n",
       "      <th>Schooling</th>\n",
       "      <td>9</td>\n",
       "      <td>4.945055</td>\n",
       "    </tr>\n",
       "    <tr>\n",
       "      <th>Hepatitis B</th>\n",
       "      <td>9</td>\n",
       "      <td>4.945055</td>\n",
       "    </tr>\n",
       "    <tr>\n",
       "      <th>Adult_Mortality</th>\n",
       "      <td>9</td>\n",
       "      <td>4.945055</td>\n",
       "    </tr>\n",
       "    <tr>\n",
       "      <th>Malnourished5_9</th>\n",
       "      <td>4</td>\n",
       "      <td>2.197802</td>\n",
       "    </tr>\n",
       "    <tr>\n",
       "      <th>Malnourished10_19</th>\n",
       "      <td>4</td>\n",
       "      <td>2.197802</td>\n",
       "    </tr>\n",
       "    <tr>\n",
       "      <th>BMI</th>\n",
       "      <td>4</td>\n",
       "      <td>2.197802</td>\n",
       "    </tr>\n",
       "  </tbody>\n",
       "</table>\n",
       "</div>"
      ],
      "text/plain": [
       "                   Missing values  Percentage\n",
       "Income_Index                   13    7.142857\n",
       "Schooling                       9    4.945055\n",
       "Hepatitis B                     9    4.945055\n",
       "Adult_Mortality                 9    4.945055\n",
       "Malnourished5_9                 4    2.197802\n",
       "Malnourished10_19               4    2.197802\n",
       "BMI                             4    2.197802"
      ]
     },
     "execution_count": 86,
     "metadata": {},
     "output_type": "execute_result"
    }
   ],
   "source": [
    "miss = df_lexp.isnull().sum()[df_lexp.isnull().sum() > 0].sort_values(ascending=False) \n",
    "percent = (miss*100/df_lexp.shape[0]).sort_values(ascending=False)   \n",
    "percent = percent[percent > 0]\n",
    "\n",
    "missing_data = pd.concat([miss,percent], axis = 1, keys = ['Missing values', 'Percentage'])    \n",
    "missing_data"
   ]
  },
  {
   "cell_type": "code",
   "execution_count": 64,
   "metadata": {},
   "outputs": [],
   "source": [
    "df_lexp.drop('Alcohol', axis=1, inplace=True)"
   ]
  },
  {
   "cell_type": "code",
   "execution_count": 78,
   "metadata": {},
   "outputs": [
    {
     "data": {
      "text/plain": [
       "Status\n",
       "Developed    3327181.000000\n",
       "Developing   1811624.000000\n",
       "Name: Population, dtype: float64"
      ]
     },
     "execution_count": 78,
     "metadata": {},
     "output_type": "execute_result"
    }
   ],
   "source": [
    "df_lexp.groupby(by = \"Status\")[\"Population\"].median()"
   ]
  },
  {
   "cell_type": "code",
   "execution_count": 82,
   "metadata": {},
   "outputs": [],
   "source": [
    "# for i in len(range(182)):\n",
    "#     if(df_lexp[i].Population.isnull == True):\n",
    "#         if(df_lexp.Status == 'Developing'):\n",
    "#             df_lexp['Population'].fillna(value = 1811624, inplace=True)\n",
    "#         else:\n",
    "#             df_lexp['Population'].fillna(value = 3327181, inplace=True)"
   ]
  },
  {
   "cell_type": "code",
   "execution_count": 83,
   "metadata": {},
   "outputs": [
    {
     "data": {
      "text/plain": [
       "Adult_Mortality       9\n",
       "Hepatitis B           9\n",
       "BMI                   4\n",
       "GDP                  25\n",
       "Malnourished10_19     4\n",
       "Malnourished5_9       4\n",
       "Income_Index         13\n",
       "Schooling             9\n",
       "dtype: int64"
      ]
     },
     "execution_count": 83,
     "metadata": {},
     "output_type": "execute_result"
    }
   ],
   "source": [
    "indices = df_lexp[df_lexp[\"Population\"].isnull()].index\n",
    "for i in indices:\n",
    "    if df_lexp.iloc[i,2] == \"Developing\":\n",
    "        df_lexp.iloc[i,13] = 1811624\n",
    "    else:\n",
    "        df_lexp.iloc[i,13] = 3327181\n",
    "        \n",
    "df_lexp.isnull().sum()[df_lexp.isnull().sum() > 0]"
   ]
  },
  {
   "cell_type": "code",
   "execution_count": 84,
   "metadata": {},
   "outputs": [
    {
     "data": {
      "text/plain": [
       "Status\n",
       "Developed    8974.315496\n",
       "Developing   2124.662666\n",
       "Name: GDP, dtype: float64"
      ]
     },
     "execution_count": 84,
     "metadata": {},
     "output_type": "execute_result"
    }
   ],
   "source": [
    "df_lexp.groupby(by = \"Status\")[\"GDP\"].median()"
   ]
  },
  {
   "cell_type": "code",
   "execution_count": 85,
   "metadata": {},
   "outputs": [
    {
     "data": {
      "text/plain": [
       "Adult_Mortality       9\n",
       "Hepatitis B           9\n",
       "BMI                   4\n",
       "Malnourished10_19     4\n",
       "Malnourished5_9       4\n",
       "Income_Index         13\n",
       "Schooling             9\n",
       "dtype: int64"
      ]
     },
     "execution_count": 85,
     "metadata": {},
     "output_type": "execute_result"
    }
   ],
   "source": [
    "indices = df_lexp[df_lexp[\"GDP\"].isnull()].index\n",
    "for i in indices:\n",
    "    if df_lexp.iloc[i,2] == \"Developing\":\n",
    "        df_lexp.iloc[i,12] = 2124.66\n",
    "    else:\n",
    "        df_lexp.iloc[i,12] = 8974.31\n",
    "        \n",
    "df_lexp.isnull().sum()[df_lexp.isnull().sum() > 0]"
   ]
  },
  {
   "cell_type": "code",
   "execution_count": 88,
   "metadata": {},
   "outputs": [
    {
     "data": {
      "text/plain": [
       "Status\n",
       "Developed    0.881966\n",
       "Developing   0.658186\n",
       "Name: Income_Index, dtype: float64"
      ]
     },
     "execution_count": 88,
     "metadata": {},
     "output_type": "execute_result"
    }
   ],
   "source": [
    "df_lexp.groupby(by = \"Status\")[\"Income_Index\"].mean()"
   ]
  },
  {
   "cell_type": "code",
   "execution_count": 89,
   "metadata": {},
   "outputs": [
    {
     "data": {
      "text/plain": [
       "Adult_Mortality      9\n",
       "Hepatitis B          9\n",
       "BMI                  4\n",
       "Malnourished10_19    4\n",
       "Malnourished5_9      4\n",
       "Schooling            9\n",
       "dtype: int64"
      ]
     },
     "execution_count": 89,
     "metadata": {},
     "output_type": "execute_result"
    }
   ],
   "source": [
    "indices = df_lexp[df_lexp[\"Income_Index\"].isnull()].index\n",
    "for i in indices:\n",
    "    if df_lexp.iloc[i,2] == \"Developing\":\n",
    "        df_lexp.iloc[i,-3] = 0.658\n",
    "    else:\n",
    "        df_lexp.iloc[i,-3] = 0.882\n",
    "        \n",
    "df_lexp.isnull().sum()[df_lexp.isnull().sum() > 0]"
   ]
  },
  {
   "cell_type": "code",
   "execution_count": 93,
   "metadata": {},
   "outputs": [
    {
     "data": {
      "text/plain": [
       "Country              0\n",
       "Year                 0\n",
       "Status               0\n",
       "Adult_Mortality      0\n",
       "Infant_Deaths        0\n",
       "Hepatitis B          0\n",
       "Measles              0\n",
       "BMI                  0\n",
       "Underfive_Deaths     0\n",
       "Polio                0\n",
       "Diphtheria           0\n",
       "HIV                  0\n",
       "GDP                  0\n",
       "Population           0\n",
       "Malnourished10_19    0\n",
       "Malnourished5_9      0\n",
       "Income_Index         0\n",
       "Schooling            0\n",
       "Life_Expectancy      0\n",
       "dtype: int64"
      ]
     },
     "execution_count": 93,
     "metadata": {},
     "output_type": "execute_result"
    }
   ],
   "source": [
    "df_lexp['Adult_Mortality'].fillna(df_lexp['Adult_Mortality'].mean(), inplace=True)\n",
    "df_lexp['Hepatitis B'].fillna(df_lexp['Hepatitis B'].mean(), inplace=True)\n",
    "df_lexp['BMI'].fillna(df_lexp['BMI'].mean(), inplace=True)\n",
    "df_lexp['Malnourished10_19'].fillna(df_lexp['Malnourished10_19'].mean(), inplace=True)\n",
    "df_lexp['Malnourished5_9'].fillna(df_lexp['Malnourished5_9'].mean(), inplace=True)\n",
    "df_lexp['Schooling'].fillna(df_lexp['Schooling'].mean(), inplace=True)\n",
    "\n",
    "df_lexp.isnull().sum()"
   ]
  },
  {
   "cell_type": "markdown",
   "metadata": {
    "collapsed": true
   },
   "source": [
    "<table align=\"left\">\n",
    "    <tr>\n",
    "        <td width=\"6%\">\n",
    "            <img src=\"question_icon.png\">\n",
    "        </td>\n",
    "        <td>\n",
    "            <div align=\"left\", style=\"font-size:120%\">\n",
    "                <font color=\"#21618C\">\n",
    "                    <b>3. Are there any redundant features in the data?</b>\n",
    "                </font>\n",
    "            </div>\n",
    "        </td>\n",
    "    </tr>\n",
    "</table>"
   ]
  },
  {
   "cell_type": "code",
   "execution_count": 99,
   "metadata": {},
   "outputs": [
    {
     "data": {
      "text/plain": [
       "<matplotlib.axes._subplots.AxesSubplot at 0x1657818a370>"
      ]
     },
     "execution_count": 99,
     "metadata": {},
     "output_type": "execute_result"
    },
    {
     "data": {
      "image/png": "[encoded data removed]",
      "text/plain": [
       "<Figure size 1080x576 with 2 Axes>"
      ]
     },
     "metadata": {
      "needs_background": "light"
     },
     "output_type": "display_data"
    }
   ],
   "source": [
    "plt.figure(figsize = (15,8))\n",
    "corr = df_lexp.corr()\n",
    "corr_ut = corr.where(np.triu(np.ones(corr.shape)).astype(bool))\n",
    "sns.heatmap(corr_ut[abs(corr_ut) >= 0.6],annot = True)"
   ]
  },
  {
   "cell_type": "markdown",
   "metadata": {},
   "source": [
    "<b>Interpretation:</b> There is 0.99 correlation between infant deaths and underfive deaths, 0.97 correlation between Malnourished10_19 and Malnourished5_9, 0.9 correlation between Hep B and Diptheria. <br> These columns can be considered redundant as they are multi-colinear."
   ]
  },
  {
   "cell_type": "markdown",
   "metadata": {
    "collapsed": true
   },
   "source": [
    "<table align=\"left\">\n",
    "    <tr>\n",
    "        <td width=\"6%\">\n",
    "            <img src=\"question_icon.png\">\n",
    "        </td>\n",
    "        <td>\n",
    "            <div align=\"left\", style=\"font-size:120%\">\n",
    "                <font color=\"#21618C\">\n",
    "                    <b>4. Perform dummy encoding for appropriate variables of the dataset if required</b>\n",
    "                </font>\n",
    "            </div>\n",
    "        </td>\n",
    "    </tr>\n",
    "</table>"
   ]
  },
  {
   "cell_type": "code",
   "execution_count": 106,
   "metadata": {
    "scrolled": true
   },
   "outputs": [
    {
     "data": {
      "text/html": [
       "<div>\n",
       "<style scoped>\n",
       "    .dataframe tbody tr th:only-of-type {\n",
       "        vertical-align: middle;\n",
       "    }\n",
       "\n",
       "    .dataframe tbody tr th {\n",
       "        vertical-align: top;\n",
       "    }\n",
       "\n",
       "    .dataframe thead th {\n",
       "        text-align: right;\n",
       "    }\n",
       "</style>\n",
       "<table border=\"1\" class=\"dataframe\">\n",
       "  <thead>\n",
       "    <tr style=\"text-align: right;\">\n",
       "      <th></th>\n",
       "      <th>Adult_Mortality</th>\n",
       "      <th>Infant_Deaths</th>\n",
       "      <th>Hepatitis B</th>\n",
       "      <th>Measles</th>\n",
       "      <th>BMI</th>\n",
       "      <th>Underfive_Deaths</th>\n",
       "      <th>Polio</th>\n",
       "      <th>Diphtheria</th>\n",
       "      <th>HIV</th>\n",
       "      <th>GDP</th>\n",
       "      <th>Population</th>\n",
       "      <th>Malnourished10_19</th>\n",
       "      <th>Malnourished5_9</th>\n",
       "      <th>Income_Index</th>\n",
       "      <th>Schooling</th>\n",
       "      <th>Year_2015</th>\n",
       "      <th>Status_Developing</th>\n",
       "    </tr>\n",
       "  </thead>\n",
       "  <tbody>\n",
       "    <tr>\n",
       "      <th>0</th>\n",
       "      <td>263.000000</td>\n",
       "      <td>62</td>\n",
       "      <td>65.000000</td>\n",
       "      <td>1154</td>\n",
       "      <td>19.100000</td>\n",
       "      <td>83</td>\n",
       "      <td>6</td>\n",
       "      <td>65</td>\n",
       "      <td>0.100000</td>\n",
       "      <td>584.259210</td>\n",
       "      <td>33736494.000000</td>\n",
       "      <td>17.200000</td>\n",
       "      <td>17.300000</td>\n",
       "      <td>0.479000</td>\n",
       "      <td>10.100000</td>\n",
       "      <td>1</td>\n",
       "      <td>1</td>\n",
       "    </tr>\n",
       "    <tr>\n",
       "      <th>1</th>\n",
       "      <td>74.000000</td>\n",
       "      <td>0</td>\n",
       "      <td>99.000000</td>\n",
       "      <td>0</td>\n",
       "      <td>58.000000</td>\n",
       "      <td>0</td>\n",
       "      <td>99</td>\n",
       "      <td>99</td>\n",
       "      <td>0.100000</td>\n",
       "      <td>3954.227830</td>\n",
       "      <td>28873.000000</td>\n",
       "      <td>1.200000</td>\n",
       "      <td>1.300000</td>\n",
       "      <td>0.762000</td>\n",
       "      <td>14.200000</td>\n",
       "      <td>1</td>\n",
       "      <td>1</td>\n",
       "    </tr>\n",
       "    <tr>\n",
       "      <th>2</th>\n",
       "      <td>19.000000</td>\n",
       "      <td>21</td>\n",
       "      <td>95.000000</td>\n",
       "      <td>63</td>\n",
       "      <td>59.500000</td>\n",
       "      <td>24</td>\n",
       "      <td>95</td>\n",
       "      <td>95</td>\n",
       "      <td>0.100000</td>\n",
       "      <td>4132.762920</td>\n",
       "      <td>39871528.000000</td>\n",
       "      <td>6.000000</td>\n",
       "      <td>5.800000</td>\n",
       "      <td>0.743000</td>\n",
       "      <td>14.400000</td>\n",
       "      <td>1</td>\n",
       "      <td>1</td>\n",
       "    </tr>\n",
       "    <tr>\n",
       "      <th>3</th>\n",
       "      <td>335.000000</td>\n",
       "      <td>66</td>\n",
       "      <td>64.000000</td>\n",
       "      <td>118</td>\n",
       "      <td>23.300000</td>\n",
       "      <td>98</td>\n",
       "      <td>7</td>\n",
       "      <td>64</td>\n",
       "      <td>1.900000</td>\n",
       "      <td>3695.793748</td>\n",
       "      <td>2785935.000000</td>\n",
       "      <td>8.300000</td>\n",
       "      <td>8.200000</td>\n",
       "      <td>0.531000</td>\n",
       "      <td>11.400000</td>\n",
       "      <td>1</td>\n",
       "      <td>1</td>\n",
       "    </tr>\n",
       "    <tr>\n",
       "      <th>4</th>\n",
       "      <td>13.000000</td>\n",
       "      <td>0</td>\n",
       "      <td>99.000000</td>\n",
       "      <td>0</td>\n",
       "      <td>47.700000</td>\n",
       "      <td>0</td>\n",
       "      <td>86</td>\n",
       "      <td>99</td>\n",
       "      <td>0.200000</td>\n",
       "      <td>13566.954100</td>\n",
       "      <td>1811624.000000</td>\n",
       "      <td>3.300000</td>\n",
       "      <td>3.300000</td>\n",
       "      <td>0.784000</td>\n",
       "      <td>13.900000</td>\n",
       "      <td>1</td>\n",
       "      <td>1</td>\n",
       "    </tr>\n",
       "  </tbody>\n",
       "</table>\n",
       "</div>"
      ],
      "text/plain": [
       "   Adult_Mortality  Infant_Deaths  Hepatitis B  Measles        BMI  \\\n",
       "0       263.000000             62    65.000000      1154 19.100000   \n",
       "1        74.000000              0    99.000000         0 58.000000   \n",
       "2        19.000000             21    95.000000        63 59.500000   \n",
       "3       335.000000             66    64.000000       118 23.300000   \n",
       "4        13.000000              0    99.000000         0 47.700000   \n",
       "\n",
       "   Underfive_Deaths   Polio  Diphtheria       HIV          GDP  \\\n",
       "0                 83      6           65 0.100000   584.259210   \n",
       "1                  0     99           99 0.100000  3954.227830   \n",
       "2                 24     95           95 0.100000  4132.762920   \n",
       "3                 98      7           64 1.900000  3695.793748   \n",
       "4                  0     86           99 0.200000 13566.954100   \n",
       "\n",
       "       Population  Malnourished10_19  Malnourished5_9  Income_Index  \\\n",
       "0 33736494.000000          17.200000        17.300000      0.479000   \n",
       "1    28873.000000           1.200000         1.300000      0.762000   \n",
       "2 39871528.000000           6.000000         5.800000      0.743000   \n",
       "3  2785935.000000           8.300000         8.200000      0.531000   \n",
       "4  1811624.000000           3.300000         3.300000      0.784000   \n",
       "\n",
       "   Schooling  Year_2015  Status_Developing  \n",
       "0  10.100000          1                  1  \n",
       "1  14.200000          1                  1  \n",
       "2  14.400000          1                  1  \n",
       "3  11.400000          1                  1  \n",
       "4  13.900000          1                  1  "
      ]
     },
     "execution_count": 106,
     "metadata": {},
     "output_type": "execute_result"
    }
   ],
   "source": [
    "encoded = pd.get_dummies(data=df_lexp, columns=['Year','Status'], drop_first=True)\n",
    "X_all = encoded.drop(['Country', 'Life_Expectancy'], axis=1)\n",
    "X_all.head()"
   ]
  },
  {
   "cell_type": "markdown",
   "metadata": {},
   "source": [
    "<a id=\"lf\"> </a>\n",
    "## 2. Linear Regression"
   ]
  },
  {
   "cell_type": "markdown",
   "metadata": {
    "collapsed": true
   },
   "source": [
    "<table align=\"left\">\n",
    "    <tr>\n",
    "        <td width=\"6%\">\n",
    "            <img src=\"question_icon.png\">\n",
    "        </td>\n",
    "        <td>\n",
    "            <div align=\"left\", style=\"font-size:120%\">\n",
    "                <font color=\"#21618C\">\n",
    "                    <b>5.  Build a full model on the given data. Check whether the obtained residuals have constant variance\n",
    "</b>\n",
    "                </font>\n",
    "            </div>\n",
    "        </td>\n",
    "    </tr>\n",
    "</table>"
   ]
  },
  {
   "cell_type": "code",
   "execution_count": 109,
   "metadata": {},
   "outputs": [],
   "source": [
    "X = X_all\n",
    "X.iloc[:, :] = X.iloc[:, :].apply(lambda rec: (rec - rec.mean()) / rec.std())\n",
    "\n",
    "X = sm.add_constant(X)\n"
   ]
  },
  {
   "cell_type": "code",
   "execution_count": 112,
   "metadata": {},
   "outputs": [
    {
     "name": "stdout",
     "output_type": "stream",
     "text": [
      "                            OLS Regression Results                            \n",
      "==============================================================================\n",
      "Dep. Variable:        Life_Expectancy   R-squared:                       0.883\n",
      "Model:                            OLS   Adj. R-squared:                  0.870\n",
      "Method:                 Least Squares   F-statistic:                     72.47\n",
      "Date:                Wed, 17 Feb 2021   Prob (F-statistic):           5.05e-67\n",
      "Time:                        17:53:58   Log-Likelihood:                -437.69\n",
      "No. Observations:                 182   AIC:                             911.4\n",
      "Df Residuals:                     164   BIC:                             969.1\n",
      "Df Model:                          17                                         \n",
      "Covariance Type:            nonrobust                                         \n",
      "=====================================================================================\n",
      "                        coef    std err          t      P>|t|      [0.025      0.975]\n",
      "-------------------------------------------------------------------------------------\n",
      "const                71.9099      0.209    343.570      0.000      71.497      72.323\n",
      "Adult_Mortality      -2.1005      0.325     -6.470      0.000      -2.742      -1.459\n",
      "Infant_Deaths         7.9436      2.685      2.959      0.004       2.643      13.245\n",
      "Hepatitis B           0.7018      0.510      1.375      0.171      -0.306       1.710\n",
      "Measles              -0.6335      0.433     -1.462      0.146      -1.489       0.222\n",
      "BMI                  -0.3480      0.283     -1.231      0.220      -0.906       0.210\n",
      "Underfive_Deaths     -7.4128      2.503     -2.962      0.004     -12.355      -2.471\n",
      "Polio                 0.3270      0.315      1.039      0.300      -0.295       0.949\n",
      "Diphtheria            0.0852      0.557      0.153      0.879      -1.015       1.185\n",
      "HIV                  -0.7343      0.294     -2.495      0.014      -1.315      -0.153\n",
      "GDP                  -0.0563      0.250     -0.226      0.822      -0.550       0.437\n",
      "Population            0.0542      0.252      0.215      0.830      -0.443       0.552\n",
      "Malnourished10_19    -0.3555      0.971     -0.366      0.715      -2.272       1.561\n",
      "Malnourished5_9      -0.4680      0.981     -0.477      0.634      -2.404       1.468\n",
      "Income_Index          4.5842      0.561      8.172      0.000       3.477       5.692\n",
      "Schooling            -0.2681      0.421     -0.637      0.525      -1.099       0.563\n",
      "Year_2015             0.3944      0.231      1.706      0.090      -0.062       0.851\n",
      "Status_Developing    -0.2508      0.269     -0.932      0.353      -0.782       0.280\n",
      "==============================================================================\n",
      "Omnibus:                        5.903   Durbin-Watson:                   1.964\n",
      "Prob(Omnibus):                  0.052   Jarque-Bera (JB):                8.905\n",
      "Skew:                          -0.078   Prob(JB):                       0.0117\n",
      "Kurtosis:                       4.072   Cond. No.                         41.2\n",
      "==============================================================================\n",
      "\n",
      "Warnings:\n",
      "[1] Standard Errors assume that the covariance matrix of the errors is correctly specified.\n"
     ]
    }
   ],
   "source": [
    "y_exp = df_lexp['Life_Expectancy']\n",
    "MLR_full = sm.OLS(y_exp,X).fit()\n",
    "print(MLR_full.summary())"
   ]
  },
  {
   "cell_type": "code",
   "execution_count": 113,
   "metadata": {},
   "outputs": [
    {
     "data": {
      "text/plain": [
       "0   59.666282\n",
       "1   76.939188\n",
       "2   76.875119\n",
       "3   59.581944\n",
       "4   78.506260\n",
       "dtype: float64"
      ]
     },
     "execution_count": 113,
     "metadata": {},
     "output_type": "execute_result"
    }
   ],
   "source": [
    "# Constant Variance of residuals - Homoskedastic \n",
    "y_pred = MLR_full.predict(X)\n",
    "y_pred.head()"
   ]
  },
  {
   "cell_type": "code",
   "execution_count": 116,
   "metadata": {},
   "outputs": [
    {
     "data": {
      "image/png": "[encoded data removed]",
      "text/plain": [
       "<Figure size 432x288 with 1 Axes>"
      ]
     },
     "metadata": {
      "needs_background": "light"
     },
     "output_type": "display_data"
    }
   ],
   "source": [
    "sns.scatterplot(x = y_pred, y=MLR_full.resid)\n",
    "plt.show()"
   ]
  },
  {
   "cell_type": "markdown",
   "metadata": {
    "collapsed": true
   },
   "source": [
    "<table align=\"left\">\n",
    "    <tr>\n",
    "        <td width=\"6%\">\n",
    "            <img src=\"question_icon.png\">\n",
    "        </td>\n",
    "        <td>\n",
    "            <div align=\"left\", style=\"font-size:120%\">\n",
    "                <font color=\"#21618C\">\n",
    "                    <b>6. Build a model to study the impact of immunization on life expectancy, using least squares regression. Find the unexplained variation for the model\n",
    "</b>\n",
    "                </font>\n",
    "            </div>\n",
    "        </td>\n",
    "    </tr>\n",
    "</table>"
   ]
  },
  {
   "cell_type": "code",
   "execution_count": 120,
   "metadata": {},
   "outputs": [
    {
     "data": {
      "text/plain": [
       "Index(['Country', 'Year', 'Status', 'Adult_Mortality', 'Infant_Deaths',\n",
       "       'Hepatitis B', 'Measles ', 'BMI', 'Underfive_Deaths ', 'Polio',\n",
       "       'Diphtheria ', 'HIV', 'GDP', 'Population', 'Malnourished10_19',\n",
       "       'Malnourished5_9', 'Income_Index', 'Schooling', 'Life_Expectancy'],\n",
       "      dtype='object')"
      ]
     },
     "execution_count": 120,
     "metadata": {},
     "output_type": "execute_result"
    }
   ],
   "source": [
    "df_lexp.columns"
   ]
  },
  {
   "cell_type": "code",
   "execution_count": 130,
   "metadata": {},
   "outputs": [
    {
     "data": {
      "text/html": [
       "<div>\n",
       "<style scoped>\n",
       "    .dataframe tbody tr th:only-of-type {\n",
       "        vertical-align: middle;\n",
       "    }\n",
       "\n",
       "    .dataframe tbody tr th {\n",
       "        vertical-align: top;\n",
       "    }\n",
       "\n",
       "    .dataframe thead th {\n",
       "        text-align: right;\n",
       "    }\n",
       "</style>\n",
       "<table border=\"1\" class=\"dataframe\">\n",
       "  <thead>\n",
       "    <tr style=\"text-align: right;\">\n",
       "      <th></th>\n",
       "      <th>const</th>\n",
       "      <th>Hepatitis B</th>\n",
       "      <th>Diphtheria</th>\n",
       "      <th>Polio</th>\n",
       "    </tr>\n",
       "  </thead>\n",
       "  <tbody>\n",
       "    <tr>\n",
       "      <th>0</th>\n",
       "      <td>1.000000</td>\n",
       "      <td>65.000000</td>\n",
       "      <td>65</td>\n",
       "      <td>6</td>\n",
       "    </tr>\n",
       "    <tr>\n",
       "      <th>1</th>\n",
       "      <td>1.000000</td>\n",
       "      <td>99.000000</td>\n",
       "      <td>99</td>\n",
       "      <td>99</td>\n",
       "    </tr>\n",
       "    <tr>\n",
       "      <th>2</th>\n",
       "      <td>1.000000</td>\n",
       "      <td>95.000000</td>\n",
       "      <td>95</td>\n",
       "      <td>95</td>\n",
       "    </tr>\n",
       "    <tr>\n",
       "      <th>3</th>\n",
       "      <td>1.000000</td>\n",
       "      <td>64.000000</td>\n",
       "      <td>64</td>\n",
       "      <td>7</td>\n",
       "    </tr>\n",
       "    <tr>\n",
       "      <th>4</th>\n",
       "      <td>1.000000</td>\n",
       "      <td>99.000000</td>\n",
       "      <td>99</td>\n",
       "      <td>86</td>\n",
       "    </tr>\n",
       "  </tbody>\n",
       "</table>\n",
       "</div>"
      ],
      "text/plain": [
       "     const  Hepatitis B  Diphtheria   Polio\n",
       "0 1.000000    65.000000           65      6\n",
       "1 1.000000    99.000000           99     99\n",
       "2 1.000000    95.000000           95     95\n",
       "3 1.000000    64.000000           64      7\n",
       "4 1.000000    99.000000           99     86"
      ]
     },
     "execution_count": 130,
     "metadata": {},
     "output_type": "execute_result"
    }
   ],
   "source": [
    "x_imm = df_lexp[['Hepatitis B','Diphtheria ', 'Polio']]\n",
    "x_imm = sm.add_constant(x_imm)\n",
    "x_imm.head()"
   ]
  },
  {
   "cell_type": "code",
   "execution_count": 131,
   "metadata": {},
   "outputs": [
    {
     "name": "stdout",
     "output_type": "stream",
     "text": [
      "                            OLS Regression Results                            \n",
      "==============================================================================\n",
      "Dep. Variable:        Life_Expectancy   R-squared:                       0.327\n",
      "Model:                            OLS   Adj. R-squared:                  0.315\n",
      "Method:                 Least Squares   F-statistic:                     28.78\n",
      "Date:                Wed, 17 Feb 2021   Prob (F-statistic):           3.19e-15\n",
      "Time:                        18:04:56   Log-Likelihood:                -596.58\n",
      "No. Observations:                 182   AIC:                             1201.\n",
      "Df Residuals:                     178   BIC:                             1214.\n",
      "Df Model:                           3                                         \n",
      "Covariance Type:            nonrobust                                         \n",
      "===============================================================================\n",
      "                  coef    std err          t      P>|t|      [0.025      0.975]\n",
      "-------------------------------------------------------------------------------\n",
      "const          55.2915      1.914     28.882      0.000      51.514      59.069\n",
      "Hepatitis B    -0.0802      0.044     -1.836      0.068      -0.166       0.006\n",
      "Diphtheria      0.1733      0.052      3.364      0.001       0.072       0.275\n",
      "Polio           0.1031      0.026      3.909      0.000       0.051       0.155\n",
      "==============================================================================\n",
      "Omnibus:                        5.918   Durbin-Watson:                   2.014\n",
      "Prob(Omnibus):                  0.052   Jarque-Bera (JB):                6.096\n",
      "Skew:                          -0.436   Prob(JB):                       0.0474\n",
      "Kurtosis:                       2.790   Cond. No.                         592.\n",
      "==============================================================================\n",
      "\n",
      "Warnings:\n",
      "[1] Standard Errors assume that the covariance matrix of the errors is correctly specified.\n"
     ]
    }
   ],
   "source": [
    "MLR_imm = sm.OLS(y_exp,x_imm).fit()\n",
    "print(MLR_imm.summary())"
   ]
  },
  {
   "cell_type": "code",
   "execution_count": 132,
   "metadata": {},
   "outputs": [
    {
     "data": {
      "text/plain": [
       "7494.881007554877"
      ]
     },
     "execution_count": 132,
     "metadata": {},
     "output_type": "execute_result"
    }
   ],
   "source": [
    "y_p = MLR_imm.predict(x_imm)\n",
    "\n",
    "sse = np.sum((y_exp - y_p)**2)\n",
    "sse"
   ]
  },
  {
   "cell_type": "markdown",
   "metadata": {
    "collapsed": true
   },
   "source": [
    "<table align=\"left\">\n",
    "    <tr>\n",
    "        <td width=\"6%\">\n",
    "            <img src=\"question_icon.png\">\n",
    "        </td>\n",
    "        <td>\n",
    "            <div align=\"left\", style=\"font-size:120%\">\n",
    "                <font color=\"#21618C\">\n",
    "                    <b>7. Build a model to study the impact of malnutrition on life expectancy, using least squares regression. Interpret the coeffients</b>\n",
    "                </font>\n",
    "            </div>\n",
    "        </td>\n",
    "    </tr>\n",
    "</table>"
   ]
  },
  {
   "cell_type": "code",
   "execution_count": 133,
   "metadata": {},
   "outputs": [
    {
     "name": "stdout",
     "output_type": "stream",
     "text": [
      "                            OLS Regression Results                            \n",
      "==============================================================================\n",
      "Dep. Variable:        Life_Expectancy   R-squared:                       0.211\n",
      "Model:                            OLS   Adj. R-squared:                  0.202\n",
      "Method:                 Least Squares   F-statistic:                     23.98\n",
      "Date:                Wed, 17 Feb 2021   Prob (F-statistic):           5.93e-10\n",
      "Time:                        18:06:45   Log-Likelihood:                -610.97\n",
      "No. Observations:                 182   AIC:                             1228.\n",
      "Df Residuals:                     179   BIC:                             1238.\n",
      "Df Model:                           2                                         \n",
      "Covariance Type:            nonrobust                                         \n",
      "=====================================================================================\n",
      "                        coef    std err          t      P>|t|      [0.025      0.975]\n",
      "-------------------------------------------------------------------------------------\n",
      "const                75.7617      0.762     99.485      0.000      74.259      77.264\n",
      "Malnourished10_19    -0.3912      0.554     -0.706      0.481      -1.485       0.703\n",
      "Malnourished5_9      -0.4857      0.543     -0.894      0.372      -1.557       0.586\n",
      "==============================================================================\n",
      "Omnibus:                        5.666   Durbin-Watson:                   1.847\n",
      "Prob(Omnibus):                  0.059   Jarque-Bera (JB):                5.816\n",
      "Skew:                          -0.421   Prob(JB):                       0.0546\n",
      "Kurtosis:                       2.756   Cond. No.                         12.8\n",
      "==============================================================================\n",
      "\n",
      "Warnings:\n",
      "[1] Standard Errors assume that the covariance matrix of the errors is correctly specified.\n"
     ]
    }
   ],
   "source": [
    "x_mal = df_lexp[['Malnourished10_19','Malnourished5_9']]\n",
    "x_mal = sm.add_constant(x_mal)\n",
    "\n",
    "MLR_mal = sm.OLS(y_exp,x_mal).fit()\n",
    "print(MLR_mal.summary())"
   ]
  },
  {
   "cell_type": "markdown",
   "metadata": {},
   "source": [
    "<a id=\"gd\"> </a>\n",
    "## 3. Gradient Descent"
   ]
  },
  {
   "cell_type": "markdown",
   "metadata": {
    "collapsed": true
   },
   "source": [
    "<table align=\"left\">\n",
    "    <tr>\n",
    "        <td width=\"6%\">\n",
    "            <img src=\"question_icon.png\">\n",
    "        </td>\n",
    "        <td>\n",
    "            <div align=\"left\", style=\"font-size:120%\">\n",
    "                <font color=\"#21618C\">\n",
    "                    <b>8. Build a model to study the influence of adult mortality rate on life expectancy using both the least squares regression and gradient descent approach. Are the fits for both the models different?</b>\n",
    "                </font>\n",
    "            </div>\n",
    "        </td>\n",
    "    </tr>\n",
    "</table>"
   ]
  },
  {
   "cell_type": "code",
   "execution_count": 146,
   "metadata": {},
   "outputs": [
    {
     "name": "stdout",
     "output_type": "stream",
     "text": [
      "                            OLS Regression Results                            \n",
      "==============================================================================\n",
      "Dep. Variable:        Life_Expectancy   R-squared:                       0.597\n",
      "Model:                            OLS   Adj. R-squared:                  0.595\n",
      "Method:                 Least Squares   F-statistic:                     266.8\n",
      "Date:                Wed, 17 Feb 2021   Prob (F-statistic):           2.24e-37\n",
      "Time:                        18:23:30   Log-Likelihood:                -549.84\n",
      "No. Observations:                 182   AIC:                             1104.\n",
      "Df Residuals:                     180   BIC:                             1110.\n",
      "Df Model:                           1                                         \n",
      "Covariance Type:            nonrobust                                         \n",
      "===================================================================================\n",
      "                      coef    std err          t      P>|t|      [0.025      0.975]\n",
      "-----------------------------------------------------------------------------------\n",
      "const              81.6533      0.702    116.321      0.000      80.268      83.038\n",
      "Adult_Mortality    -0.0650      0.004    -16.333      0.000      -0.073      -0.057\n",
      "==============================================================================\n",
      "Omnibus:                       78.430   Durbin-Watson:                   1.953\n",
      "Prob(Omnibus):                  0.000   Jarque-Bera (JB):              273.631\n",
      "Skew:                          -1.730   Prob(JB):                     3.82e-60\n",
      "Kurtosis:                       7.910   Cond. No.                         335.\n",
      "==============================================================================\n",
      "\n",
      "Warnings:\n",
      "[1] Standard Errors assume that the covariance matrix of the errors is correctly specified.\n"
     ]
    }
   ],
   "source": [
    "x_am = df_lexp['Adult_Mortality']\n",
    "x_am = sm.add_constant(x_am)\n",
    "\n",
    "SLR_am = sm.OLS(y_exp,x_am).fit()\n",
    "print(SLR_am.summary())"
   ]
  },
  {
   "cell_type": "code",
   "execution_count": 153,
   "metadata": {},
   "outputs": [
    {
     "data": {
      "text/plain": [
       "0.5971092858062809"
      ]
     },
     "execution_count": 153,
     "metadata": {},
     "output_type": "execute_result"
    }
   ],
   "source": [
    "linreg = LinearRegression()\n",
    "\n",
    "# build the model using X_train and y_train\n",
    "# use fit() to fit the regression model\n",
    "MLR_model = linreg.fit(x_am, y_exp)\n",
    "\n",
    "# print the R-squared value for the model\n",
    "# score() returns the R-squared value\n",
    "MLR_model.score(x_am, y_exp)"
   ]
  },
  {
   "cell_type": "code",
   "execution_count": 155,
   "metadata": {},
   "outputs": [],
   "source": [
    "sgd = SGDRegressor(random_state = 10)\n",
    "\n",
    "linreg_with_SGD = sgd.fit(x_am, y_exp)"
   ]
  },
  {
   "cell_type": "code",
   "execution_count": 158,
   "metadata": {},
   "outputs": [
    {
     "data": {
      "text/plain": [
       "const             81.653278\n",
       "Adult_Mortality   -0.064969\n",
       "dtype: float64"
      ]
     },
     "execution_count": 158,
     "metadata": {},
     "output_type": "execute_result"
    }
   ],
   "source": [
    "SLR_am.params"
   ]
  },
  {
   "cell_type": "code",
   "execution_count": 156,
   "metadata": {},
   "outputs": [
    {
     "data": {
      "text/plain": [
       "array([-2.41148403e+10, -8.38670443e+10])"
      ]
     },
     "execution_count": 156,
     "metadata": {},
     "output_type": "execute_result"
    }
   ],
   "source": [
    "linreg_with_SGD.coef_"
   ]
  },
  {
   "cell_type": "code",
   "execution_count": 157,
   "metadata": {},
   "outputs": [
    {
     "data": {
      "text/plain": [
       "array([ 0.        , -0.06496867])"
      ]
     },
     "execution_count": 157,
     "metadata": {},
     "output_type": "execute_result"
    }
   ],
   "source": [
    "MLR_model.coef_"
   ]
  },
  {
   "cell_type": "markdown",
   "metadata": {},
   "source": [
    "**Interpretation:** The coefficients obtained from SGD have higher values as compared to the coefficients obtained from linear regression using OLS."
   ]
  },
  {
   "cell_type": "code",
   "execution_count": 167,
   "metadata": {},
   "outputs": [
    {
     "name": "stdout",
     "output_type": "stream",
     "text": [
      "X_train (127, 18)\n",
      "y_train (127,)\n",
      "X_test (55, 18)\n",
      "y_test (55,)\n"
     ]
    }
   ],
   "source": [
    "X_all = sm.add_constant(X_all)\n",
    "X_train, X_test, y_train, y_test = train_test_split(X_all, y_exp, random_state = 10, test_size = 0.3)\n",
    "\n",
    "print('X_train', X_train.shape)\n",
    "print('y_train', y_train.shape)\n",
    "\n",
    "print('X_test', X_test.shape)\n",
    "print('y_test', y_test.shape)"
   ]
  },
  {
   "cell_type": "code",
   "execution_count": 168,
   "metadata": {},
   "outputs": [],
   "source": [
    "def get_train_rmse(model):\n",
    "    train_pred = model.predict(X_train)\n",
    "    mse_train = mean_squared_error(y_train, train_pred)\n",
    "    rmse_train = round(np.sqrt(mse_train), 4)\n",
    "    return(rmse_train)\n",
    "\n",
    "def get_test_rmse(model):\n",
    "    test_pred = model.predict(X_test)\n",
    "    mse_test = mean_squared_error(y_test, test_pred)\n",
    "    rmse_test = round(np.sqrt(mse_test), 4)\n",
    "    return(rmse_test)\n",
    "\n",
    "def plot_coefficients(model, algorithm_name):\n",
    "    df_coeff = pd.DataFrame({'Variable': X_train.columns, 'Coefficient': model.params})\n",
    "    sorted_coeff = df_coeff.sort_values('Coefficient', ascending = False)\n",
    "    sns.barplot(x = \"Coefficient\", y = \"Variable\", data = sorted_coeff)\n",
    "    plt.xlabel(\"Coefficients from {}\".format(algorithm_name), fontsize = 15)\n",
    "    plt.ylabel('Features', fontsize = 15)\n",
    "    \n",
    "def plot_coefficients1(model, algorithm_name):\n",
    "    df_coeff = pd.DataFrame({'Variable': X_train.columns, 'Coefficient': model.coef_})\n",
    "    sorted_coeff = df_coeff.sort_values('Coefficient', ascending = False)\n",
    "    sns.barplot(x = \"Coefficient\", y = \"Variable\", data = sorted_coeff)\n",
    "    plt.xlabel(\"Coefficients from {}\".format(algorithm_name), fontsize = 15)\n",
    "    plt.ylabel('Features', fontsize = 15)"
   ]
  },
  {
   "cell_type": "markdown",
   "metadata": {
    "collapsed": true
   },
   "source": [
    "<table align=\"left\">\n",
    "    <tr>\n",
    "        <td width=\"6%\">\n",
    "            <img src=\"question_icon.png\">\n",
    "        </td>\n",
    "        <td>\n",
    "            <div align=\"left\", style=\"font-size:120%\">\n",
    "                <font color=\"#21618C\">\n",
    "                    <b>9. Build a model to analyze the influence of immunization on life expectancy. Use SGD and plot a horizontal multiple barchart to compare the values of beta coefficients with values obtained by the full model build least squares regression.</b>\n",
    "                </font>\n",
    "            </div>\n",
    "        </td>\n",
    "    </tr>\n",
    "</table>"
   ]
  },
  {
   "cell_type": "code",
   "execution_count": 172,
   "metadata": {},
   "outputs": [
    {
     "name": "stdout",
     "output_type": "stream",
     "text": [
      "                            OLS Regression Results                            \n",
      "==============================================================================\n",
      "Dep. Variable:        Life_Expectancy   R-squared:                       0.327\n",
      "Model:                            OLS   Adj. R-squared:                  0.315\n",
      "Method:                 Least Squares   F-statistic:                     28.78\n",
      "Date:                Thu, 18 Feb 2021   Prob (F-statistic):           3.19e-15\n",
      "Time:                        19:51:31   Log-Likelihood:                -596.58\n",
      "No. Observations:                 182   AIC:                             1201.\n",
      "Df Residuals:                     178   BIC:                             1214.\n",
      "Df Model:                           3                                         \n",
      "Covariance Type:            nonrobust                                         \n",
      "===============================================================================\n",
      "                  coef    std err          t      P>|t|      [0.025      0.975]\n",
      "-------------------------------------------------------------------------------\n",
      "const          55.2915      1.914     28.882      0.000      51.514      59.069\n",
      "Hepatitis B    -0.0802      0.044     -1.836      0.068      -0.166       0.006\n",
      "Diphtheria      0.1733      0.052      3.364      0.001       0.072       0.275\n",
      "Polio           0.1031      0.026      3.909      0.000       0.051       0.155\n",
      "==============================================================================\n",
      "Omnibus:                        5.918   Durbin-Watson:                   2.014\n",
      "Prob(Omnibus):                  0.052   Jarque-Bera (JB):                6.096\n",
      "Skew:                          -0.436   Prob(JB):                       0.0474\n",
      "Kurtosis:                       2.790   Cond. No.                         592.\n",
      "==============================================================================\n",
      "\n",
      "Warnings:\n",
      "[1] Standard Errors assume that the covariance matrix of the errors is correctly specified.\n"
     ]
    }
   ],
   "source": [
    "MLR_imm = sm.OLS(y_exp,x_imm).fit()\n",
    "print(MLR_imm.summary())"
   ]
  },
  {
   "cell_type": "markdown",
   "metadata": {
    "collapsed": true
   },
   "source": [
    "<table align=\"left\">\n",
    "    <tr>\n",
    "        <td width=\"6%\">\n",
    "            <img src=\"question_icon.png\">\n",
    "        </td>\n",
    "        <td>\n",
    "            <div align=\"left\", style=\"font-size:120%\">\n",
    "                <font color=\"#21618C\">\n",
    "                    <b>10. Build a full model using least squares regression. Check whether the model overfits the training data or not.\n",
    "</b>\n",
    "                </font>\n",
    "            </div>\n",
    "        </td>\n",
    "    </tr>\n",
    "</table>"
   ]
  },
  {
   "cell_type": "code",
   "execution_count": 173,
   "metadata": {},
   "outputs": [
    {
     "name": "stdout",
     "output_type": "stream",
     "text": [
      "                            OLS Regression Results                            \n",
      "==============================================================================\n",
      "Dep. Variable:        Life_Expectancy   R-squared:                       0.896\n",
      "Model:                            OLS   Adj. R-squared:                  0.880\n",
      "Method:                 Least Squares   F-statistic:                     55.32\n",
      "Date:                Thu, 18 Feb 2021   Prob (F-statistic):           1.47e-45\n",
      "Time:                        19:52:20   Log-Likelihood:                -301.48\n",
      "No. Observations:                 127   AIC:                             639.0\n",
      "Df Residuals:                     109   BIC:                             690.2\n",
      "Df Model:                          17                                         \n",
      "Covariance Type:            nonrobust                                         \n",
      "=====================================================================================\n",
      "                        coef    std err          t      P>|t|      [0.025      0.975]\n",
      "-------------------------------------------------------------------------------------\n",
      "const                71.6402      0.258    277.460      0.000      71.128      72.152\n",
      "Adult_Mortality      -1.9513      0.408     -4.782      0.000      -2.760      -1.143\n",
      "Infant_Deaths        21.8295      6.716      3.251      0.002       8.519      35.140\n",
      "Hepatitis B           0.6513      0.539      1.208      0.230      -0.417       1.720\n",
      "Measles              -0.2446      0.520     -0.470      0.639      -1.276       0.787\n",
      "BMI                  -0.3430      0.310     -1.105      0.271      -0.958       0.272\n",
      "Underfive_Deaths    -22.3191      6.828     -3.269      0.001     -35.853      -8.786\n",
      "Polio                 0.3659      0.365      1.002      0.318      -0.358       1.090\n",
      "Diphtheria           -0.3375      0.633     -0.533      0.595      -1.592       0.917\n",
      "HIV                  -0.9903      0.352     -2.813      0.006      -1.688      -0.293\n",
      "GDP                   0.1559      0.329      0.474      0.636      -0.496       0.807\n",
      "Population           -0.1464      0.288     -0.509      0.612      -0.717       0.424\n",
      "Malnourished10_19    -0.0688      1.474     -0.047      0.963      -2.991       2.853\n",
      "Malnourished5_9      -0.4857      1.497     -0.324      0.746      -3.452       2.481\n",
      "Income_Index          4.0222      0.742      5.420      0.000       2.551       5.493\n",
      "Schooling             0.0953      0.541      0.176      0.861      -0.978       1.168\n",
      "Year_2015             0.3145      0.267      1.178      0.241      -0.215       0.844\n",
      "Status_Developing    -0.7237      0.339     -2.133      0.035      -1.396      -0.051\n",
      "==============================================================================\n",
      "Omnibus:                        6.470   Durbin-Watson:                   1.881\n",
      "Prob(Omnibus):                  0.039   Jarque-Bera (JB):                7.305\n",
      "Skew:                          -0.332   Prob(JB):                       0.0259\n",
      "Kurtosis:                       3.970   Cond. No.                         86.4\n",
      "==============================================================================\n",
      "\n",
      "Warnings:\n",
      "[1] Standard Errors assume that the covariance matrix of the errors is correctly specified.\n"
     ]
    }
   ],
   "source": [
    "MLR_model = sm.OLS(y_train,X_train).fit()\n",
    "print(MLR_model.summary())"
   ]
  },
  {
   "cell_type": "code",
   "execution_count": 175,
   "metadata": {},
   "outputs": [
    {
     "name": "stdout",
     "output_type": "stream",
     "text": [
      "RMSE on train set:  2.5984\n",
      "RMSE on test set:  4.5528\n",
      "Difference between RMSE on train and test set:  1.9544000000000006\n"
     ]
    }
   ],
   "source": [
    "print('RMSE on train set: ', get_train_rmse(MLR_model))\n",
    "\n",
    "X_test = sm.add_constant(X_test)\n",
    "# print training RMSE\n",
    "print('RMSE on test set: ', get_test_rmse(MLR_model))\n",
    "\n",
    "# calculate the difference between train and test set RMSE\n",
    "difference = abs(get_test_rmse(MLR_model) - get_train_rmse(MLR_model))\n",
    "\n",
    "# print the difference between train and test set RMSE\n",
    "print('Difference between RMSE on train and test set: ', difference)"
   ]
  },
  {
   "cell_type": "markdown",
   "metadata": {
    "collapsed": true
   },
   "source": [
    "<table align=\"left\">\n",
    "    <tr>\n",
    "        <td width=\"6%\">\n",
    "            <img src=\"question_icon.png\">\n",
    "        </td>\n",
    "        <td>\n",
    "            <div align=\"left\", style=\"font-size:120%\">\n",
    "                <font color=\"#21618C\">\n",
    "                    <b>11. Can we use a linear regression model to analyze how all features from the dataset impact life expectancy?</b>\n",
    "                </font>\n",
    "            </div>\n",
    "        </td>\n",
    "    </tr>\n",
    "</table>"
   ]
  },
  {
   "cell_type": "code",
   "execution_count": 176,
   "metadata": {},
   "outputs": [
    {
     "name": "stdout",
     "output_type": "stream",
     "text": [
      "                            OLS Regression Results                            \n",
      "==============================================================================\n",
      "Dep. Variable:        Life_Expectancy   R-squared:                       0.896\n",
      "Model:                            OLS   Adj. R-squared:                  0.880\n",
      "Method:                 Least Squares   F-statistic:                     55.32\n",
      "Date:                Thu, 18 Feb 2021   Prob (F-statistic):           1.47e-45\n",
      "Time:                        19:55:29   Log-Likelihood:                -301.48\n",
      "No. Observations:                 127   AIC:                             639.0\n",
      "Df Residuals:                     109   BIC:                             690.2\n",
      "Df Model:                          17                                         \n",
      "Covariance Type:            nonrobust                                         \n",
      "=====================================================================================\n",
      "                        coef    std err          t      P>|t|      [0.025      0.975]\n",
      "-------------------------------------------------------------------------------------\n",
      "const                71.6402      0.258    277.460      0.000      71.128      72.152\n",
      "Adult_Mortality      -1.9513      0.408     -4.782      0.000      -2.760      -1.143\n",
      "Infant_Deaths        21.8295      6.716      3.251      0.002       8.519      35.140\n",
      "Hepatitis B           0.6513      0.539      1.208      0.230      -0.417       1.720\n",
      "Measles              -0.2446      0.520     -0.470      0.639      -1.276       0.787\n",
      "BMI                  -0.3430      0.310     -1.105      0.271      -0.958       0.272\n",
      "Underfive_Deaths    -22.3191      6.828     -3.269      0.001     -35.853      -8.786\n",
      "Polio                 0.3659      0.365      1.002      0.318      -0.358       1.090\n",
      "Diphtheria           -0.3375      0.633     -0.533      0.595      -1.592       0.917\n",
      "HIV                  -0.9903      0.352     -2.813      0.006      -1.688      -0.293\n",
      "GDP                   0.1559      0.329      0.474      0.636      -0.496       0.807\n",
      "Population           -0.1464      0.288     -0.509      0.612      -0.717       0.424\n",
      "Malnourished10_19    -0.0688      1.474     -0.047      0.963      -2.991       2.853\n",
      "Malnourished5_9      -0.4857      1.497     -0.324      0.746      -3.452       2.481\n",
      "Income_Index          4.0222      0.742      5.420      0.000       2.551       5.493\n",
      "Schooling             0.0953      0.541      0.176      0.861      -0.978       1.168\n",
      "Year_2015             0.3145      0.267      1.178      0.241      -0.215       0.844\n",
      "Status_Developing    -0.7237      0.339     -2.133      0.035      -1.396      -0.051\n",
      "==============================================================================\n",
      "Omnibus:                        6.470   Durbin-Watson:                   1.881\n",
      "Prob(Omnibus):                  0.039   Jarque-Bera (JB):                7.305\n",
      "Skew:                          -0.332   Prob(JB):                       0.0259\n",
      "Kurtosis:                       3.970   Cond. No.                         86.4\n",
      "==============================================================================\n",
      "\n",
      "Warnings:\n",
      "[1] Standard Errors assume that the covariance matrix of the errors is correctly specified.\n"
     ]
    }
   ],
   "source": [
    "print(MLR_model.summary())"
   ]
  },
  {
   "cell_type": "markdown",
   "metadata": {},
   "source": [
    "<a id=\"reg\"> </a>\n",
    "## 4. Regularization"
   ]
  },
  {
   "cell_type": "markdown",
   "metadata": {
    "collapsed": true
   },
   "source": [
    "<table align=\"left\">\n",
    "    <tr>\n",
    "        <td width=\"6%\">\n",
    "            <img src=\"question_icon.png\">\n",
    "        </td>\n",
    "        <td>\n",
    "            <div align=\"left\", style=\"font-size:120%\">\n",
    "                <font color=\"#21618C\">\n",
    "                    <b>12. Can we perform regression analysis without eliminating features involved in multicollinearity detected in question 11?</b>\n",
    "                </font>\n",
    "            </div>\n",
    "        </td>\n",
    "    </tr>\n",
    "</table>"
   ]
  },
  {
   "cell_type": "markdown",
   "metadata": {
    "scrolled": true
   },
   "source": [
    "<b>Interpretation:</b> As seen from thr results of question 11, the multi-colinearity value CN = 86.4 is less than 100. Therefore we can perform regression analysis without eliminating features."
   ]
  },
  {
   "cell_type": "markdown",
   "metadata": {
    "collapsed": true
   },
   "source": [
    "<table align=\"left\">\n",
    "    <tr>\n",
    "        <td width=\"6%\">\n",
    "            <img src=\"question_icon.png\">\n",
    "        </td>\n",
    "        <td>\n",
    "            <div align=\"left\", style=\"font-size:120%\">\n",
    "                <font color=\"#21618C\">\n",
    "                    <b>13. Build a model to study the impact of diseases and immunization on life expectancy. Identify the significant variables from the model. Use 'alpha = 1.5' if required.\n",
    "</b>\n",
    "                </font>\n",
    "            </div>\n",
    "        </td>\n",
    "    </tr>\n",
    "</table>"
   ]
  },
  {
   "cell_type": "code",
   "execution_count": 177,
   "metadata": {},
   "outputs": [
    {
     "data": {
      "text/plain": [
       "Index(['const', 'Adult_Mortality', 'Infant_Deaths', 'Hepatitis B', 'Measles ',\n",
       "       'BMI', 'Underfive_Deaths ', 'Polio', 'Diphtheria ', 'HIV', 'GDP',\n",
       "       'Population', 'Malnourished10_19', 'Malnourished5_9', 'Income_Index',\n",
       "       'Schooling', 'Year_2015', 'Status_Developing'],\n",
       "      dtype='object')"
      ]
     },
     "execution_count": 177,
     "metadata": {},
     "output_type": "execute_result"
    }
   ],
   "source": [
    "X_train.columns"
   ]
  },
  {
   "cell_type": "code",
   "execution_count": 181,
   "metadata": {},
   "outputs": [
    {
     "name": "stdout",
     "output_type": "stream",
     "text": [
      "RMSE on test set: 5.5346\n"
     ]
    }
   ],
   "source": [
    "lasso = Lasso(alpha = 1.5, max_iter = 500)\n",
    "lasso.fit(X_train[['Hepatitis B', 'Measles ','Polio', 'Diphtheria ', 'HIV']], y_train)\n",
    "\n",
    "test_pred = lasso.predict(X_test[['Hepatitis B', 'Measles ','Polio', 'Diphtheria ', 'HIV']])\n",
    "mse_test = mean_squared_error(y_test, test_pred)\n",
    "rmse_test = round(np.sqrt(mse_test), 4)\n",
    "print('RMSE on test set:', rmse_test)"
   ]
  },
  {
   "cell_type": "code",
   "execution_count": 188,
   "metadata": {},
   "outputs": [
    {
     "name": "stdout",
     "output_type": "stream",
     "text": [
      "Significant variables obtained from Lasso Regression when alpha is 1.5:\n"
     ]
    },
    {
     "data": {
      "text/plain": [
       "['Polio', 'Diphtheria ', 'HIV']"
      ]
     },
     "execution_count": 188,
     "metadata": {},
     "output_type": "execute_result"
    }
   ],
   "source": [
    "df_lasso_coeff = pd.DataFrame({'Variable': ['Hepatitis B', 'Measles ','Polio', 'Diphtheria ', 'HIV'], 'Coefficient': lasso.coef_})\n",
    "\n",
    "print('Significant variables obtained from Lasso Regression when alpha is 1.5:')\n",
    "df_lasso_coeff.Variable[df_lasso_coeff.Coefficient != 0].to_list()"
   ]
  },
  {
   "cell_type": "markdown",
   "metadata": {
    "collapsed": true
   },
   "source": [
    "<table align=\"left\">\n",
    "    <tr>\n",
    "        <td width=\"6%\">\n",
    "            <img src=\"question_icon.png\">\n",
    "        </td>\n",
    "        <td>\n",
    "            <div align=\"left\", style=\"font-size:120%\">\n",
    "                <font color=\"#21618C\">\n",
    "                    <b>14. Build a model to study the impact of malnutrition and diseases on life expectancy. Identify the insignificant variables from the model. Use 'alpha = 1' if required.</b>\n",
    "                </font>\n",
    "            </div>\n",
    "        </td>\n",
    "    </tr>\n",
    "</table>"
   ]
  },
  {
   "cell_type": "code",
   "execution_count": 191,
   "metadata": {},
   "outputs": [
    {
     "name": "stdout",
     "output_type": "stream",
     "text": [
      "RMSE on test set: 5.0982\n"
     ]
    }
   ],
   "source": [
    "lasso = Lasso(alpha = 1, max_iter = 500)\n",
    "lasso.fit(X_train[['Malnourished10_19', 'Malnourished5_9', 'Measles ', 'HIV']], y_train)\n",
    "\n",
    "test_pred = lasso.predict(X_test[['Malnourished10_19', 'Malnourished5_9', 'Measles ', 'HIV']])\n",
    "mse_test = mean_squared_error(y_test, test_pred)\n",
    "rmse_test = round(np.sqrt(mse_test), 4)\n",
    "print('RMSE on test set:', rmse_test)"
   ]
  },
  {
   "cell_type": "code",
   "execution_count": 192,
   "metadata": {},
   "outputs": [
    {
     "name": "stdout",
     "output_type": "stream",
     "text": [
      "Insignificant variables obtained from Lasso Regression when alpha is 1:\n"
     ]
    },
    {
     "data": {
      "text/plain": [
       "['Measles ']"
      ]
     },
     "execution_count": 192,
     "metadata": {},
     "output_type": "execute_result"
    }
   ],
   "source": [
    "df_lasso_coeff = pd.DataFrame({'Variable': ['Malnourished10_19', 'Malnourished5_9', 'Measles ', 'HIV'], 'Coefficient': lasso.coef_})\n",
    "\n",
    "print('Insignificant variables obtained from Lasso Regression when alpha is 1:')\n",
    "df_lasso_coeff.Variable[df_lasso_coeff.Coefficient == 0].to_list()"
   ]
  },
  {
   "cell_type": "markdown",
   "metadata": {
    "collapsed": true
   },
   "source": [
    "<table align=\"left\">\n",
    "    <tr>\n",
    "        <td width=\"6%\">\n",
    "            <img src=\"question_icon.png\">\n",
    "        </td>\n",
    "        <td>\n",
    "            <div align=\"left\", style=\"font-size:120%\">\n",
    "                <font color=\"#21618C\">\n",
    "                    <b>15. Build a full model using the elastic net regression. Use 'alpha = 0.1' and 'l1_ratio=0.001'. Also, compute the RMSE for train and test sets.\n",
    " </b>\n",
    "                </font>\n",
    "            </div>\n",
    "        </td>\n",
    "    </tr>\n",
    "</table>"
   ]
  },
  {
   "cell_type": "code",
   "execution_count": 203,
   "metadata": {
    "scrolled": true
   },
   "outputs": [
    {
     "name": "stdout",
     "output_type": "stream",
     "text": [
      "RMSE on train set:  2.7911\n",
      "RMSE on test set: 3.0433\n"
     ]
    }
   ],
   "source": [
    "enet = ElasticNet(alpha = 0.1, l1_ratio = 0.001, max_iter = 500)\n",
    "enet.fit(X_train, y_train)\n",
    "\n",
    "print('RMSE on train set: ', get_train_rmse(enet))\n",
    "print('RMSE on test set:', get_test_rmse(enet))"
   ]
  },
  {
   "cell_type": "markdown",
   "metadata": {
    "collapsed": true
   },
   "source": [
    "<table align=\"left\">\n",
    "    <tr>\n",
    "        <td width=\"6%\">\n",
    "            <img src=\"question_icon.png\">\n",
    "        </td>\n",
    "        <td>\n",
    "            <div align=\"left\", style=\"font-size:120%\">\n",
    "                <font color=\"#21618C\">\n",
    "                    <b>16. Build a full model. Identify the features that are significantly influencing the life expectancy. Use 'alpha = 0.5' if required. </b>\n",
    "                </font>\n",
    "            </div>\n",
    "        </td>\n",
    "    </tr>\n",
    "</table>"
   ]
  },
  {
   "cell_type": "code",
   "execution_count": 195,
   "metadata": {
    "scrolled": true
   },
   "outputs": [
    {
     "name": "stdout",
     "output_type": "stream",
     "text": [
      "RMSE on test set: 3.0389\n"
     ]
    }
   ],
   "source": [
    "lasso = Lasso(alpha = 0.5, max_iter = 500)\n",
    "lasso.fit(X_train, y_train)\n",
    "print('RMSE on test set:', get_test_rmse(lasso))"
   ]
  },
  {
   "cell_type": "code",
   "execution_count": 196,
   "metadata": {},
   "outputs": [
    {
     "name": "stdout",
     "output_type": "stream",
     "text": [
      "Significant variables obtained from Lasso Regression when alpha is 0.5:\n"
     ]
    },
    {
     "data": {
      "text/plain": [
       "['Adult_Mortality',\n",
       " 'Hepatitis B',\n",
       " 'Polio',\n",
       " 'HIV',\n",
       " 'Income_Index',\n",
       " 'Status_Developing']"
      ]
     },
     "execution_count": 196,
     "metadata": {},
     "output_type": "execute_result"
    }
   ],
   "source": [
    "df_lasso_coeff = pd.DataFrame({'Variable': X_train.columns, 'Coefficient': lasso.coef_})\n",
    "\n",
    "print('Significant variables obtained from Lasso Regression when alpha is 0.5:')\n",
    "df_lasso_coeff.Variable[df_lasso_coeff.Coefficient != 0].to_list()"
   ]
  },
  {
   "cell_type": "markdown",
   "metadata": {},
   "source": [
    "<a id=\"gs\"> </a>\n",
    "## 5. Grid Search "
   ]
  },
  {
   "cell_type": "markdown",
   "metadata": {
    "collapsed": true
   },
   "source": [
    "<table align=\"left\">\n",
    "    <tr>\n",
    "        <td width=\"6%\">\n",
    "            <img src=\"question_icon.png\">\n",
    "        </td>\n",
    "        <td>\n",
    "            <div align=\"left\", style=\"font-size:120%\">\n",
    "                <font color=\"#21618C\">\n",
    "                    <b>17. If ridge regression is used to build a full model. Which value is the best alpha from the list of values?<br><br>Consider the alpha values: [7,8,9,10,11]</b>\n",
    "                </font>\n",
    "            </div>\n",
    "        </td>\n",
    "    </tr>\n",
    "</table>"
   ]
  },
  {
   "cell_type": "code",
   "execution_count": 197,
   "metadata": {
    "scrolled": true
   },
   "outputs": [
    {
     "name": "stdout",
     "output_type": "stream",
     "text": [
      "Best parameters for Ridge Regression:  {'alpha': 11}\n",
      "RMSE on test set: 3.0345\n"
     ]
    }
   ],
   "source": [
    "tuned_paramaters = [{'alpha':[7,8,9,10,11]}]\n",
    " \n",
    "ridge = Ridge()\n",
    "ridge_grid = GridSearchCV(estimator = ridge, param_grid = tuned_paramaters)\n",
    "ridge_grid.fit(X_train, y_train)\n",
    "\n",
    "print('Best parameters for Ridge Regression: ', ridge_grid.best_params_)\n",
    "print('RMSE on test set:', get_test_rmse(ridge_grid))"
   ]
  },
  {
   "cell_type": "markdown",
   "metadata": {
    "collapsed": true
   },
   "source": [
    "<table align=\"left\">\n",
    "    <tr>\n",
    "        <td width=\"6%\">\n",
    "            <img src=\"question_icon.png\">\n",
    "        </td>\n",
    "        <td>\n",
    "            <div align=\"left\", style=\"font-size:120%\">\n",
    "                <font color=\"#21618C\">\n",
    "                    <b>18. If lasso regression is used to build a full model. Which value is the best alpha from the list of values?<br><br>Consider the alpha values: [7,8,9,10,11]</b>\n",
    "                </font>\n",
    "            </div>\n",
    "        </td>\n",
    "    </tr>\n",
    "</table>"
   ]
  },
  {
   "cell_type": "code",
   "execution_count": 198,
   "metadata": {},
   "outputs": [
    {
     "name": "stdout",
     "output_type": "stream",
     "text": [
      "Best parameters for Lasso Regression:  {'alpha': 7} \n",
      "\n",
      "RMSE on test set: 7.0352\n"
     ]
    }
   ],
   "source": [
    "tuned_paramaters = [{'alpha':[7,8,9,10,11]}]\n",
    "                     \n",
    "lasso = Lasso()\n",
    "lasso_grid = GridSearchCV(estimator = lasso, param_grid = tuned_paramaters)\n",
    "lasso_grid.fit(X_train, y_train)\n",
    "\n",
    "print('Best parameters for Lasso Regression: ', lasso_grid.best_params_, '\\n')\n",
    "print('RMSE on test set:', get_test_rmse(lasso_grid))"
   ]
  },
  {
   "cell_type": "markdown",
   "metadata": {
    "collapsed": true
   },
   "source": [
    "<table align=\"left\">\n",
    "    <tr>\n",
    "        <td width=\"6%\">\n",
    "            <img src=\"question_icon.png\">\n",
    "        </td>\n",
    "        <td>\n",
    "            <div align=\"left\", style=\"font-size:120%\">\n",
    "                <font color=\"#21618C\">\n",
    "                    <b>19. Perform regression analysis to study the impact of malnutrition and diseases on life expectancy. Determine the optimal value of alpha and mixing parameter if elastic net regression is used to build the model. Consider the following list of values:<br><br> alpha : [0.1,0.5,1,1.5,2,2.5,3,3.5,4]<br> l1_ratio : [0.5,0.55,0.6,0.65,0.7,0.75,0.8,0.85,0.9] </b>\n",
    "                </font>\n",
    "            </div>\n",
    "        </td>\n",
    "    </tr>\n",
    "</table>"
   ]
  },
  {
   "cell_type": "code",
   "execution_count": 204,
   "metadata": {},
   "outputs": [
    {
     "name": "stdout",
     "output_type": "stream",
     "text": [
      "Best parameters for Elastic Net Regression:  {'alpha': 0.5, 'l1_ratio': 0.55}\n",
      "RMSE on test set: 5.127\n"
     ]
    }
   ],
   "source": [
    "tuned_paramaters = [{'alpha':[0.1,0.5,1,1.5,2,2.5,3,3.5,4],\n",
    "                      'l1_ratio':[0.5,0.55,0.6,0.65,0.7,0.75,0.8,0.85,0.9]}]\n",
    "\n",
    "enet = ElasticNet()\n",
    "enet_grid = GridSearchCV(estimator = enet, param_grid = tuned_paramaters)\n",
    "enet_grid.fit(X_train[['Malnourished10_19', 'Malnourished5_9', 'Measles ', 'HIV']], y_train)\n",
    "\n",
    "print('Best parameters for Elastic Net Regression: ', enet_grid.best_params_)\n",
    "test_pred = enet_grid.predict(X_test[['Malnourished10_19', 'Malnourished5_9', 'Measles ', 'HIV']])\n",
    "mse_test = mean_squared_error(y_test, test_pred)\n",
    "rmse_test = round(np.sqrt(mse_test), 4)\n",
    "print('RMSE on test set:', rmse_test)"
   ]
  },
  {
   "cell_type": "markdown",
   "metadata": {
    "collapsed": true
   },
   "source": [
    "<table align=\"left\">\n",
    "    <tr>\n",
    "        <td width=\"6%\">\n",
    "            <img src=\"question_icon.png\">\n",
    "        </td>\n",
    "        <td>\n",
    "            <div align=\"left\", style=\"font-size:120%\">\n",
    "                <font color=\"#21618C\">\n",
    "                    <b>20. Build a full model. Select the optimal value for elastic net mixing parameter if the alpha value is 0.8<br><br>Consider the values: l1_ratio : [0.001, 0.005, 0.01, 0.05, 0.1, 0.5, 1]</b>\n",
    "                </font>\n",
    "            </div>\n",
    "        </td>\n",
    "    </tr>\n",
    "</table>"
   ]
  },
  {
   "cell_type": "code",
   "execution_count": 202,
   "metadata": {
    "scrolled": true
   },
   "outputs": [
    {
     "name": "stdout",
     "output_type": "stream",
     "text": [
      "Best parameters for Elastic Net Regression:  {'alpha': 0.8, 'l1_ratio': 1}\n",
      "RMSE on test set: 3.1411\n"
     ]
    }
   ],
   "source": [
    "tuned_paramaters = [{'alpha':[0.8],\n",
    "                      'l1_ratio':[0.001, 0.005, 0.01, 0.05, 0.1, 0.5, 1]}]\n",
    "\n",
    "enet = ElasticNet()\n",
    "enet_grid = GridSearchCV(estimator = enet, param_grid = tuned_paramaters)\n",
    "enet_grid.fit(X_train, y_train)\n",
    "\n",
    "print('Best parameters for Elastic Net Regression: ', enet_grid.best_params_)\n",
    "print('RMSE on test set:', get_test_rmse(enet_grid))"
   ]
  },
  {
   "cell_type": "code",
   "execution_count": null,
   "metadata": {},
   "outputs": [],
   "source": []
  }
 ],
 "metadata": {
  "kernelspec": {
   "display_name": "Python 3",
   "language": "python",
   "name": "python3"
  },
  "language_info": {
   "codemirror_mode": {
    "name": "ipython",
    "version": 3
   },
   "file_extension": ".py",
   "mimetype": "text/x-python",
   "name": "python",
   "nbconvert_exporter": "python",
   "pygments_lexer": "ipython3",
   "version": "3.8.3"
  }
 },
 "nbformat": 4,
 "nbformat_minor": 2
}
